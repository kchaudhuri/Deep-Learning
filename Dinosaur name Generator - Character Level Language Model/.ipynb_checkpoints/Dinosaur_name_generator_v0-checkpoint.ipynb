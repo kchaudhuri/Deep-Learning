{
 "cells": [
  {
   "cell_type": "code",
   "execution_count": 2,
   "metadata": {},
   "outputs": [
    {
     "name": "stderr",
     "output_type": "stream",
     "text": [
      "C:\\Anaconda3\\lib\\site-packages\\h5py\\__init__.py:36: FutureWarning: Conversion of the second argument of issubdtype from `float` to `np.floating` is deprecated. In future, it will be treated as `np.float64 == np.dtype(float).type`.\n",
      "  from ._conv import register_converters as _register_converters\n"
     ]
    }
   ],
   "source": [
    "# Importing Libraries\n",
    "import numpy as np\n",
    "import random\n",
    "import json\n",
    "import pandas as pd\n",
    "import matplotlib.pyplot as plt\n",
    "import tensorflow as tf\n",
    "from utils import * "
   ]
  },
  {
   "cell_type": "code",
   "execution_count": 3,
   "metadata": {},
   "outputs": [
    {
     "name": "stdout",
     "output_type": "stream",
     "text": [
      "{'description': 'A list of dinosaurs.', 'dinosaurs': ['Kangnasaurus', 'Lophostropheus', 'Spinophorosaurus', 'Epachthosaurus', 'Coelurosauria', 'Lycorhinus', 'Adasaurus', 'Draconyx', 'Ceratops', 'Lagerpeton', 'Qiaowanlong', 'Rhynchosaur', 'Ningyuansaurus', 'Palaeolimnornis', 'Anabisetia', 'Talarurus', 'Sphenodontia', 'Tianyulong', 'Aepisaurus', 'Neuquenraptor', 'Galesaurus', 'Pachysuchus', 'Auroraceratops', 'Hecatasaurus', 'Barapasaurus', 'Asiatosaurus', 'Daanosaurus', 'Luoyanggia', 'Eobrontosaurus', 'Wellnhoferia', 'Zuolong', 'Tenchisaurus', 'Centrosaurus', 'Falcarius', 'Ojoraptorsaurus', 'Lufengocephalus', 'Vulcanodon', 'Mollusc', 'Shunosaurus', 'Empaterias', 'Issasaurus', 'Jiangxisaurus', 'Laplatasaurus', 'Aublysodon', 'Embasaurus', 'Blikanasaurus', 'Bonapartenykus', 'Asiamericana', 'Arizonasaurus', 'Cryptoraptor', 'Morosaurus', 'Mapusaurus', 'Buitreraptor', 'Gravitholus', 'Vitakrisaurus', 'Nurosaurus', 'Cetiosauriscus', 'Kukufeldia', 'Propanoplosaurus', 'Suchoprion', 'Umarsaurus', 'Likhoelesaurus', 'Dasygnathoides', 'Dubreuillosaurus', 'Shenzhouraptor', 'Atrociraptor', 'Amurosaurus', 'Latirhinus', 'Albisaurus', 'Zupaysaurus', 'Venenosaurus', 'Syrmosaurus', 'Arkharavia', 'Yueosaurus', 'Tianchungosaurus', 'Dyslocosaurus', 'Sinraptor', 'Owenodon', 'Pelycosaur', 'Duriavenator', 'Haplocheirus', 'Epidendrosaurus', 'Nyasasaurus', 'Tawasaurus', 'Lisboasaurus', 'Ahshislepelta', 'Magnirostris', 'Psittacosaurus', 'Orodromeus', 'Ostafrikasaurus', 'Nemegtomaia', 'Dracorex', 'Ovoraptor', 'Amazonsaurus', 'Leyesaurus', 'Dollodon', 'Cryptosaurus', 'Coahuilaceratops', 'Variraptor', 'Panamericansaurus', 'Nodocephalosaurus', 'Nasutoceratops', 'Prosaurolophus', 'Jingshanosaurus', 'Teleocrater', 'Tribelesodon', 'Mochlodon', 'Eohadrosaurus', 'Comanchesaurus', 'Limnornis', 'Gigantspinosaurus', 'Oxalaia', 'Wuerhosaurus', 'Mtapaiasaurus', 'Longisquama', 'Velocisaurus', 'Aorun', 'Sinopliosaurus', 'Gigantosaurus', 'Sphenospondylus', 'Dinotyrannus', 'Rhabdodon', 'Kritosaurus', 'Lamplughsaura', 'Notohypsilophodon', 'Tsagantegia', 'Brontoraptor', 'Argyrosaurus', 'Lambeosaurus', 'Heterosaurus', 'Tazoudasaurus', 'Valdoraptor', 'Microhadrosaurus', 'Pycnonemosaurus', 'Manidens', 'Coelophysis', 'Hulsanpes', 'Losillasaurus', 'Polacanthoides', 'Lanzhousaurus', 'Walgettosuchus', 'Sauroniops', 'Magulodon', 'Pneumatoraptor', 'Altispinax', 'Alnashetri', 'Hoplitosaurus', 'Rahiolisaurus', 'Luanpingosaurus', 'Abrosaurus', 'Palaeosaurus', 'Iguanoides', 'Abydosaurus', 'Riodevasaurus', 'Stormbergia', 'Bihariosaurus', 'Yuanmousaurus', 'Sphenosuchus', 'Dashanpusaurus', 'Crocodilia', 'Enigmosaurus', 'Montanoceratops', 'Frenguellisaurus', 'Segnosaurus', 'Kryptops', 'Labocania', 'Sinocalliopteryx', 'Dromiceiomimus', 'Isisaurus', 'Archaeornithoides', 'Deinonychus', 'Allosaurus', 'Stephanosaurus', 'Sinornithoides', 'Incisivosaurus', 'Ornitholestes', 'Ankylosaurus', 'Plateosaurus', 'Shidaisaurus', 'Platyceratops', 'Agnosphitys', 'Changdusaurus', 'Nothosaur', 'Orthogoniosaurus', 'Titanoceratops', 'Dysganus', 'Lamaceratops', 'Helioceratops', 'Nanyangosaurus', 'Khaan', 'Cryptodraco', 'Chasmosaurus', 'Rileyasuchus', 'Aeolosaurus', 'Yizhousaurus', 'Echinodon', 'Omnivoropteryx', 'Lengosaurus', 'Megadactylus', 'Mamenchisaurus', 'Notoceratops', 'Pachysaurus', 'Tianzhenosaurus', 'Zhuchengceratops', 'Tyreophorus', 'Nedcolbertia', 'Shixinggia', 'Jeholosaurus', 'Ornithosuchus', 'Veterupristisaurus', 'Rayososaurus', 'Velafrons', 'Lapparentosaurus', 'Seismosaurus', 'Tsuchikurasaurus', 'Styracosaurus', 'Dilophosaurus', 'Gasparinisaura', 'Xiaotingia', 'Dromaeosaurus', 'Scansoriopteryx', 'Eurolimnornis', 'Proterosuchid', 'Nipponosaurus', 'Brachiosaurus', 'Vitaridrinda', 'Mantellodon', 'Sphaerotholus', 'Shuosaurus', 'Koutalisaurus', 'Cardiodon', 'Yixianosaurus', 'Jurassosaurus', 'Jiutaisaurus', 'Gryphognathus', 'Archaeornithomimus', 'Griphornis', 'Szechuanosaurus', 'Pneumatoarthrus', 'Basutodon', 'Aletopelta', 'Tendaguria', 'Riojasaurus', 'Creosaurus', 'Harpymimus', 'Huaxiagnathus', 'Carnotaurus', 'Beipiaosaurus', 'Teratophoneus', 'Cedarosaurus', 'Omosaurus', 'Wyleyia', 'Aachenosaurus', 'Atlantosaurus', 'Bilbeyhallorum', 'Balochisaurus', 'Ouranosaurus', 'Fukuititan', 'Sarcolestes', 'Alocodon', 'Amphisaurus', 'Lametasaurus', 'Raptorex', 'Sinosaurus', 'Doratodon', 'Ankistrodon', 'Chuanjiesaurus', 'Parasaurolophus', 'Albertonykus', 'Efraasia', 'Alaskacephale', 'Torilion', 'Rapator', 'Sauroplites', 'Thecocoelurus', 'Lirainosaurus', 'Xixiasaurus', 'Conchoraptor', 'Paralititan', 'Arcusaurus', 'Becklespinax', 'Thecodontosaurus', 'Taveirosaurus', 'Daemonosaurus', 'Suuwassea', 'Albertosaurus', 'Nouerosaurus', 'Marshosaurus', 'Xuanhuasaurus', 'Algoasaurus', 'Capitalsaurus', 'Xenoposeidon', 'Cryolophosaurus', 'Gobipteryx', 'Stereosaurus', 'Nemegtia', 'Proyandusaurus', 'Thyreophora', 'Xiaosaurus', 'Tatankaceratops', 'Hanwulosaurus', 'Gryphoceratops', 'Linheraptor', 'Ornithomimoides', 'Edmontonia', 'Aerosteon', 'Ninghsiasaurus', 'Prenoceratops', 'Vagaceratops', 'Sinucerasaurus', 'Hongshanosaurus', 'Hexinlusaurus', 'Indosuchus', 'Moshisaurus', 'Alashansaurus', 'Berberosaurus', 'Elaltitan', 'Marisaurus', 'Rhoetosaurus', 'Tatankacephalus', 'Bienosaurus', 'Dracopelta', 'Chiayusaurus', 'Pseudosuchia', 'Sarcosaurus', 'Shuvuuia', 'Unaysaurus', 'Amtosaurus', 'Nqwebasaurus', 'Claorhynchus', 'Prolacertiform', 'Honghesaurus', 'Ugrosaurus', 'Aegyptosaurus', 'Gallimimus', 'Clasmodosaurus', 'Hypacrosaurus', 'Caenagnathus', 'Velocipes', 'Lessemsaurus', 'Agrosaurus', 'Paronychodon', 'Maleevosaurus', 'Leipsanosaurus', 'Clevelanotyrannus', 'Dynamosaurus', 'Megacervixosaurus', 'Protohadros', 'Polyonax', 'Daxiatitan', 'Spondylosoma', 'Ichthyovenator', 'Demandasaurus', 'Dimodosaurus', 'Torvosaurus', 'Gwyneddosaurus', 'Cystosaurus', 'Irritator', 'Zanclodon', 'Rugops', 'Ignavusaurus', 'Chinshakiangosaurus', 'Zhejiangosaurus', 'Pachyrhinosaurus', 'Stenotholus', 'Iuticosaurus', 'Tyrannotitan', 'Xixianykus', 'Palaeopteryx', 'Vitakridrinda', 'Planicoxa', 'Jianchangosaurus', 'Sinovenator', 'Ohmdenosaurus', 'Protecovasaurus', 'Eoceratops', 'Laevisuchus', 'Cumnoria', 'Ratchasimasaurus', 'Elaphrosaurus', 'Dracovenator', 'Abelisaurus', 'Sangonghesaurus', 'Austrocheirus', 'Calamosaurus', 'Vectensia', 'Elosaurus', 'Termatosaurus', 'Pleuropeltus', 'Chubutisaurus', 'Macrophalangia', 'Futalongkosaurus', 'Acristavus', 'Wintonotitan', 'Diclonius', 'Nanosaurus', 'Tonganosaurus', 'Tarascosaurus', 'Amphicoelicaudia', 'Achillesaurus', 'Delapparentia', 'Argentinosaurus', 'Sulaimansaurus', 'Koparion', 'Brachytrachelopan', 'Bakesaurus', 'Rahona', 'Oryctodromeus', 'Campylodon', 'Stygivenator', 'Wangonisaurus', 'Genyodectes', 'Acrocanthosaurus', 'Danubiosaurus', 'Deltadromeus', 'Rileya', 'Borealosaurus', 'Rioarribasaurus', 'Gondwanatitan', 'Lophorhothon', 'Talenkauen', 'Diracodon', 'Nanshiungosaurus', 'Bradycneme', 'Ferganocephale', 'Cheneosaurus', 'Wulagasaurus', 'Tanystrosuchus', 'Comahuesaurus', 'Actiosaurus', 'Jiangjunmiaosaurus', 'Xinjiangovenator', 'Gadolosaurus', 'Clarencea', 'Avemetatarsalia', 'Dakotadon', 'Diapsid', 'Albinykus', 'Pectinodon', 'Protorosaurus', 'Ginnareemimus', 'Doryphorosaurus', 'Dalianraptor', 'Megapnosaurus', 'Scelidosaurus', 'Metriorhynchid', 'Piatnitzkysaurus', 'Haplocanthosaurus', 'Phytosaur', 'Manospondylus', 'Gansutitan', 'Neovenator', 'Brasileosaurus', 'Judiceratops', 'Khetranisaurus', 'Fish', 'Proceratosaurus', 'Zatomus', 'Ceratosaurus', 'Unescoceratops', 'Telmatosaurus', 'Segisaurus', 'Pachyspondylus', 'Caseosaurus', 'Ultrasauros', 'Dongbeititan', 'Galvesaurus', 'Crocodylomorph', 'Ephoenosaurus', 'Fossil', 'Crosbysaurus', 'Coelosaurus', 'Unenlagia', 'Strenusaurus', 'Concavenator', 'Fukuiraptor', 'Camarasaurus', 'Iliosuchus', 'Huayangosaurus', 'Kileskus', 'Clepsysaurus', 'Richardoestesia', 'Sphenosaurus', 'Scutellosaurus', 'Garudimimus', 'Hexing', 'Nanningosaurus', 'Sonorasaurus', 'Pradhania', 'Orosaurus', 'Andesaurus', 'Genusaurus', 'Huxleysaurus', 'Elopteryx', 'Alectrosaurus', 'Tecovasaurus', 'Parksosaurus', 'Paranthodon', 'Airakoraptor', 'Jobaria', 'Ichabodcraniosaurus', 'Muyelensaurus', 'Sacisaurus', 'Deinodon', 'Patricosaurus', 'Maleevus', 'Tylocephale', 'Sugiyamasaurus', 'Nodosaurus', 'Aliwalia', 'Kerberosaurus', 'Kazaklambia', 'Eolambia', 'Dongyangosaurus', 'Citipati', 'Euskelosaurus', 'Trigonosaurus', 'Epidexipteryx', 'Dolichosuchus', 'Walkeria', 'Labrosaurus', 'Condorraptor', 'Tichosteus', 'Uberabatitan', 'Magnosaurus', 'Janenschia', 'Anasazisaurus', 'Macrogryphosaurus', 'Erliansaurus', 'Ornithotarsus', 'Bayosaurus', 'Santanaraptor', 'Zhuchengtyrannus', 'Lukousaurus', 'Sauroposeidon', 'Ampelosaurus', 'Pampadromaeus', 'Erectopus', 'Glyptodontopelta', 'Drinker', 'Leaellynasaura', 'Magyarosaurus', 'Postosuchus', 'Szechuanoraptor', 'Yubasaurus', 'Brachyrophus', 'Cionodon', 'Sellacoxa', 'Elachistosuchus', 'Shuvosaurus', 'Sauraechmodon', 'Microdontosaurus', 'Carcharodontosaurus', 'Brachylophosaurus', 'Theropoda', 'Tapinocephalus', 'Changchunsaurus', 'Cladeiodon', 'Pareiasaurus', 'Heishansaurus', 'Aristosuchus', 'Protiguanodon', 'Brohisaurus', 'Eupodosaurus', 'Datousaurus', 'Giraffatitan', 'Jaklapallisaurus', 'Tugulusaurus', 'Compsognathus', 'Ilokelesia', 'Revueltoraptor', 'Tuojiangosaurus', 'Huaxiasaurus', 'Palaeocursornis', 'Onychosaurus', 'Ceratonykus', 'Amargatitanis', 'Albalophosaurus', 'Byronosaurus', 'Cryptovolans', 'Shenzhousaurus', 'Rapetosaurus', 'Altirhinus', 'Sanjuansaurus', 'Dysalotosaurus', 'Archaeopteryx', 'Liliensternus', 'Beelemodon', 'Xuanhuaceratops', 'Protrachodon', 'Caenagnathasia', 'Willinakaqe', 'Atacamatitan', 'Lourinhanosaurus', 'Yaverlandia', 'Ligomasaurus', 'Suchomimus', 'Brasilotitan', 'Jenghizkhan', 'Aggiosaurus', 'Elrhazosaurus', 'Yingshanosaurus', 'Australovenator', 'Ichthyornis', 'Valdosaurus', 'Yuanmouraptor', 'Prolacertiformes', 'Tarchia', 'Hesperosaurus', 'Azendohsaurus', 'Eucentrosaurus', 'Scipionyx', 'Petrobrasaurus', 'Hudiesaurus', 'Sinornithosaurus', 'Shuangmiaosaurus', 'Tianchisaurus', 'Araucanoraptor', 'Poposaurus', 'Pararhabdodon', 'Osmakasaurus', 'Siamotyrannus', 'Galveosaurus', 'Yangchuanosaurus', 'Microcephale', 'Mirischia', 'Probactrosaurus', 'Yunxiansaurus', 'Enantiornithine', 'Cedrorestes', 'Chaoyangsaurus', 'Loricatosaurus', 'Stygimoloch', 'Venaticosuchus', 'Gorgosaurus', 'Anchiornis', 'Ischisaurus', 'Bactrosaurus', 'Quilmesaurus', 'Fukuisaurus', 'Stegosaurus', 'Griphosaurus', 'Graciliceratops', 'Oligosaurus', 'Baotianmansaurus', 'Eocursor', 'Turtle', 'Macelognathus', 'Arctosaurus', 'Streptospondylus', 'Texasetes', 'Dianchungosaurus', 'Birds', 'Nomingia', 'Sinornithomimus', 'Hierosaurus', 'Abdallahsaurus', 'Jaxartosaurus', 'Sanchusaurus', 'Tarbosaurus', 'Sinocoelurus', 'Timimus', 'Herrerasaurus', 'Giganotosaurus', 'Tsaagan', 'Anthracothere', 'Yezosaurus', 'Chihuahuasaurus', 'Cathartesaura', 'Domeykosaurus', 'Loncosaurus', 'Archaeoceratops', 'Udanoceratops', 'Gojirasaurus', 'Dongyangopelta', 'Duriatitan', 'Chondrosteus', 'Arkanosaurus', 'Lusotitan', 'Diceratus', 'Nuoersaurus', 'Wadhurstia', 'Sauropelta', 'Ultrasaurus', 'Indosaurus', 'Kotasaurus', 'Urbacodon', 'Zhongyuansaurus', 'Tanystropheus', 'Mifunesaurus', 'Pegomastax', 'Gobititan', 'Lusitanosaurus', 'Caulodon', 'Baryonyx', 'Tataouinea', 'Longosaurus', 'Pareiasaur', 'Leshansaurus', 'Machairasaurus', 'Colossosaurus', 'Arstanosaurus', 'Wakinosaurus', 'Lanasaurus', 'Dryosaurus', 'Sterrholophus', 'Dachungosaurus', 'Chialingosaurus', 'Jiangjunosaurus', 'Klamelisaurus', 'Rauisuchia', 'Caudipteryx', 'Jinfengopteryx', 'Leptoceratops', 'Sinotyrannus', 'Poekilopleuron', 'Gobisaurus', 'Angaturama', 'Pterosaur', 'Aetonyx', 'Angolatitan', 'Tanius', 'Therizinosaurus', 'Tastavinsaurus', 'Lancangosaurus', 'Dinheirosaurus', 'Brachypodosaurus', 'Gobiceratops', 'Fruitadens', 'Monkonosaurus', 'Spinostropheus', 'Cristatusaurus', 'Bolong', 'Rebbachisaurus', 'Monolophosaurus', 'Alioramus', 'Hypsirophus', 'Olorotitan', 'Euoplocephalus', 'Juravenator', 'Euhelopus', 'Epanterias', 'Lancanjiangosaurus', 'Xianshanosaurus', 'Ekrixinatosaurus', 'Achillobator', 'Hesperonychus', 'Pachysauriscus', 'Ruyangosaurus', 'Gongbusaurus', 'Teratosaurus', 'Ruehleia', 'Yaleosaurus', 'Canardia', 'Brachyceratops', 'Pantydraco', 'Afrovenator', 'Mendozasaurus', 'Pedopenna', 'Blasisaurus', 'Astrodon', 'Mandschurosaurus', 'Drusilasaura', 'Libycosaurus', 'Eucamerotus', 'Tonouchisaurus', 'Didanodon', 'Proplanicoxa', 'Kentrurosaurus', 'Trinisaura', 'Fusuisaurus', 'Kentrosaurus', 'Eocarcharia', 'Albertaceratops', 'Rutellum', 'Saltasaurus', 'Majungatholus', 'Mussaurus', 'Zigongosaurus', 'Euacanthus', 'Craspedodon', 'Ingenia', 'Priodontognathus', 'Rubeosaurus', 'Gyposaurus', 'Utahraptor', 'Pukyongosaurus', 'Coelurosaur', 'Silvisaurus', 'Troodon', 'Jixiangornis', 'Pawpawsaurus', 'Oohkotokia', 'Hadrosauravus', 'Shaochilong', 'Ponerosteus', 'Ischyrosaurus', 'Hadrosaurus', 'Gryposaurus', 'Spinops', 'Peloroplites', 'Daspletosaurus', 'Dravidosaurus', 'Hagryphus', 'Sphenosuchia', 'Ligabueino', 'Mymoorapelta', 'Tatisaurus', 'Trimucrodon', 'Cathetosaurus', 'Teinurosaurus', 'Antetonitrus', 'Rajasaurus', 'Fabrosaurus', 'Angloposeidon', 'Levnesovia', 'Mongolosaurus', 'Asiaceratops', 'Avipes', 'Turiasaurus', 'Eucnemesaurus', 'Otogosaurus', 'Martharaptor', 'Tsintaosaurus', 'Hypsilophodon', 'Gigantoscelus', 'Palaeosauriscus', 'Hironosaurus', 'Paludititan', 'Anatosaurus', 'Kaatedocus', 'Linhevenator', 'Pellegrinisaurus', 'Sanpasaurus', 'Lapampasaurus', 'Inosaurus', 'Eomamenchisaurus', 'Liassaurus', 'Jinzhousaurus', 'Equijubus', 'Dryptosaurus', 'Nopcsaspondylus', 'Changtusaurus', 'Tapuiasaurus', 'Diabloceratops', 'Dakosaurus', 'Chassternbergia', 'Limaysaurus', 'Huaxiaosaurus', 'Minotaurasaurus', 'Uteodon', 'Micropachycephalosaurus', 'Avisaurus', 'Siamodon', 'Ornithomerus', 'Eodromaeus', 'Turanoceratops', 'Nambalia', 'Cruxicheiros', 'Riojasuchus', 'Stokesosaurus', 'Amygdalodon', 'Linhenykus', 'Heterodontosaurus', 'Dromicosaurus', 'Bahariasaurus', 'Xiongguanlong', 'Jeyawati', 'Polyodontosaurus', 'Morinosaurus', 'Campylodoniscus', 'Aralosaurus', 'Pentaceratops', 'Squalodon', 'Saurornitholestes', 'Yandusaurus', 'Bruhathkayosaurus', 'Kinnareemimus', 'Tornieria', 'Scaphonyx', 'Barosaurus', 'Titanosaurus', 'Volkheimeria', 'Brontomerus', 'Megalosaurus', 'Rhopalodon', 'Huanghetitan', 'Ngexisaurus', 'Jiangshanosaurus', 'Archosaur', 'Sciurumimus', 'Histriasaurus', 'Spinosaurus', 'Eoraptor', 'Phaedrolosaurus', 'Betasuchus', 'Belodon', 'Bagaraatan', 'Protognathus', 'Marmarospondylus', 'Dinosaur', 'Darwinsaurus', 'Apatodon', 'Eotyrannus', 'Struthiomimus', 'Pelecanimimus', 'Gideonmantellia', 'Appalachiosaurus', 'Edmontosaurus', 'Acracanthus', 'Machimosaurus', 'Razanandrongobe', 'Uintasaurus', 'Magnapaulia', 'Moabosaurus', 'Ojoceratops', 'Yaxartosaurus', 'Macroscelosaurus', 'Aniksosaurus', 'Guanlong', 'Futabasaurus', 'Proceratops', 'Xuwulong', 'Ricardoestesia', 'Symphyrophus', 'Pleurocoelus', 'Damalasaurus', 'Naashoibitosaurus', 'Panphagia', 'Graciliraptor', 'Ornithoides', 'Futalognkosaurus', 'Pachycephalosaurus', 'Plesiosaur', 'Astrophocaudia', 'Gilmoreosaurus', 'Diamantinasaurus', 'Eucercosaurus', 'Gavinosaurus', 'Suchosaurus', 'Eugongbusaurus', 'Camelotia', 'Shanxia', 'Antarctopelta', 'Traukutitan', 'Saurornithoides', 'Hippodraco', 'Nteregosaurus', 'Sauropodus', 'Coelurosauravus', 'Stereocephalus', 'Adeopapposaurus', 'Ctenosauriscid', 'Paraiguanodon', 'Eosinopteryx', 'Archaeornis', 'Bambiraptor', 'Isanosaurus', 'Stegosaurides', 'Avaceratops', 'Gannansaurus', 'Triceratops', 'Paluxysaurus', 'Denversaurus', 'Bathygnathus', 'Katsuyamasaurus', 'Barsboldia', 'Mojoceratops', 'Eucoelophysis', 'Microraptor', 'Calamospondylus', 'Fusinasus', 'Agathaumas', 'Protoceratops', 'Eustreptospondylus', 'Macrurosaurus', 'Atlascopcosaurus', 'Claosaurus', 'Avicephala', 'Tochisaurus', 'Protognathosaurus', 'Kakuru', 'Neuquensaurus', 'Chilantaisaurus', 'Chindesaurus', 'Parvicursor', 'Phuwiangosaurus', 'Saltriosaurus', 'Edmarka', 'Chingkankousaurus', 'Bicentenaria', 'Kemkemia', 'Microceratus', 'Chaoyangosaurus', 'Atlasaurus', 'Eotriceratops', 'Neimongosaurus', 'Unicerosaurus', 'Qinlingosaurus', 'Laosaurus', 'Craterosaurus', 'Dacentrurus', 'Geminiraptor', 'Erlikosaurus', 'Bonitasaura', 'Arrhinoceratops', 'Triassolestes', 'Hisanohamasaurus', 'Oplosaurus', 'Supersaurus', 'Achelousaurus', 'Rinconsaurus', 'Serendipaceratops', 'Eoabelisaurus', 'Dystrophaeus', 'Thotobolosaurus', 'Blancocerosaurus', 'Cetiosaurus', 'Roccosaurus', 'Chondrosteosaurus', 'Fulengia', 'Mohammadisaurus', 'Halticosaurus', 'Lancangjiangosaurus', 'Teyuwasu', 'Breviceratops', 'Rhodanosaurus', 'Metriacanthosaurus', 'Overosaurus', 'Newtonsaurus', 'Gracilisuchus', 'Pseudolagosuchus', 'Sellosaurus', 'Ajkaceratops', 'Lufengosaurus', 'Yamaceratops', 'Bagaceratops', 'Apatosaurus', 'Khateranisaurus', 'Batyrosaurus', 'Cinizasaurus', 'Tanycolagreus', 'Bainoceratops', 'Silesaurid', 'Byranjaffia', 'Shamosaurus', 'Austrosaurus', 'Amtocephale', 'Cylindricodon', 'Huabeisaurus', 'Regnosaurus', 'Callovosaurus', 'Heptasteornis', 'Gryponyx', 'Tylosteus', 'Gargoyleosaurus', 'Kundurosaurus', 'Mononykus', 'Secernosaurus', 'Puertasaurus', 'Bellusaurus', 'Archosauriform', 'Qiupalong', 'Alamosaurus', 'Dystylosaurus', 'Tethyshadros', 'Selimanosaurus', 'Albertadromeus', 'Karongasaurus', 'Kaijiangosaurus', 'Microvenator', 'Amphicoelias', 'Eshanosaurus', 'Salimosaurus', 'Avimimus', 'Elvisaurus', 'Bonatitan', 'Procheneosaurus', 'Tetragonosaurus', 'Mammal', 'Oshanosaurus', 'Jurapteryx', 'Paleosaurus', 'Dinosauromorph', 'Plateosauravus', 'Hungarosaurus', 'Chromogisaurus', 'Anoplosaurus', 'Amargasaurus', 'Merosaurus', 'Alwalkeria', 'Macrodontophion', 'Shanshanosaurus', 'Gongxianosaurus', 'Vectisaurus', 'Kitadanisaurus', 'Agustinia', 'Sulaimanisaurus', 'Thescelosaurus', 'Zephyrosaurus', 'Arenysaurus', 'Patagosaurus', 'Laornis', 'Protoavis', 'Tenantosaurus', 'Yinlong', 'Bravoceratops', 'Saurophaganax', 'Coeluroides', 'Seitaad', 'Trialestes', 'Glishades', 'Cedarpelta', 'Rinchenia', 'Lesothosaurus', 'Dromaeosaur', 'Nuoerosaurus', 'Hallopus', 'Yanornis', 'Tomodon', 'Juratyrant', 'Shanyangosaurus', 'Deuterosaurus', 'Coelurus', 'Zizhongosaurus', 'Hypselospinus', 'Austroraptor', 'Brachytaenius', 'Orcomimus', 'Acrotholus', 'Chirostenotes', 'Emausaurus', 'Nigersaurus', 'Animantarx', 'Luanchuanraptor', 'Zuniceratops', 'Wannanosaurus', 'Abrictosaurus', 'Heyuannia', 'Synapsid', 'Struthiosaurus', 'Yunnanosaurus', 'Noasaurus', 'Tyrannosaurid', 'Yibinosaurus', 'Thespesius', 'Priconodon', 'Marasuchus', 'Anchisaurus', 'Iguanacolossus', 'Patagonykus', 'Haplocanthus', 'Corythosaurus', 'Limusaurus', 'Coloradisaurus', 'Similicaudipteryx', 'Leptospondylus', 'Aviatyrannis', 'Hortalotarsus', 'Tienshanosaurus', 'Pamparaptor', 'Peishansaurus', 'Succinodon', 'Dinosaurus', 'Rachitrema', 'Dachongosaurus', 'Therapsida', 'Saurolophus', 'Pekinosaurus', 'Skorpiovenator', 'Microsaurops', 'Ammosaurus', 'Ichthyosaur', 'Antarctosaurus', 'Liaoningosaurus', 'Nothronychus', 'Spinosuchus', 'Iguanosaurus', 'Anchiceratops', 'Orkoraptor', 'Microcoelus', 'Xuanhanosaurus', 'Geranosaurus', 'Goyocephale', 'Ankylosauria', 'Dahalokely', 'Daptosaurus', 'Loricosaurus', 'Australodocus', 'Pterospondylus', 'Gigantoraptor', 'Hylaeosaurus', 'Caudocoelus', 'Opisthocoelicaudia', 'Rhadinosaurus', 'Ligabuesaurus', 'Aragosaurus', 'Rocasaurus', 'Parrosaurus', 'Sahaliyania', 'Agilisaurus', 'Orthomerus', 'Penelopognathus', 'Liaoceratops', 'Dyoplosaurus', 'Stenonychosaurus', 'Walkersaurus', 'Narambuenatitan', 'Pitekunsaurus', 'Camarillasaurus', 'Procolophonid', 'Epichirostenotes', 'Beishanlong', 'Gasosaurus', 'Coronosaurus', 'Zapalasaurus', 'Sauraechinodon', 'Glacialisaurus', 'Therapsid', 'Gravisaurus', 'Lewisuchus', 'Jainosaurus', 'Centemodon', 'Arkansaurus', 'Einiosaurus', 'Palaeoscincus', 'Cerasinops', 'Microceratops', 'Pteropelyx', 'Sigilmassasaurus', 'Staurikosaurus', 'Pyroraptor', 'Ornithodesmus', 'Asylosaurus', 'Anodontosaurus', 'Siluosaurus', 'Carnosauria', 'Qantassaurus', 'Ornithomimus', 'Dinodocus', 'Chuxiongosaurus', 'Anserimimus', 'Camptonotus', 'Lagosuchus', 'Anatotitan', 'Dryptosauroides', 'Silesaurus', 'Pachysaurops', 'Saichania', 'Procerosaurus', 'Lucianosaurus', 'Koreasaurus', 'Lurdusaurus', 'Piveteausaurus', 'Jeholornis', 'Angulomastacator', 'Hoplosaurus', 'Saltopus', 'Shanag', 'Homalocephale', 'Torosaurus', 'Fenestrosaurus', 'Jubbulpuria', 'Mtotosaurus', 'Nemegtosaurus', 'Maiasaura', 'Yutyrannus', 'Ozraptor', 'Lariosaurus', 'Bugenasaura', 'Ornatotholus', 'Aardonyx', 'Herbstosaurus', 'Tianyuraptor', 'Diplodocus', 'Kosmoceratops', 'Muttaburrasaurus', 'Kagasaurus', 'Atsinganosaurus', 'Massospondylus', 'Utahceratops', 'Nanotyrannus', 'Qingxiusaurus', 'Avalonianus', 'Erketu', 'Fulgurotherium', 'Kayentavenator', 'Protarchaeopteryx', 'Chungkingosaurus', 'Krzyzanowskisaurus', 'Yimenosaurus', 'Aurornis', 'Ganzhousaurus', 'Pinacosaurus', 'Archosauromorph', 'Niobrarasaurus', 'Melanorosaurus', 'Baurutitan', 'Elmisaurus', 'Euronychodon', 'Tehuelchesaurus', 'Sinusonasus', 'Omeisaurus', 'Agujaceratops', 'Aucasaurus', 'Wulatelong', 'Stegopelta', 'Europasaurus', 'Alxasaurus', 'Stegosauroides', 'Tangvayosaurus', 'Pliosaur', 'Unquillosaurus', 'Xixiposaurus', 'Ornithopsis', 'Crataeomus', 'Madsenius', 'Diplotomodon', 'Kulceratops', 'Adamantisaurus', 'Nyororosaurus', 'Monoclonius', 'Kuszholia', 'Jintasaurus', 'Camptosaurus', 'Masiakasaurus', 'Parhabdodon', 'Prodeinodon', 'Saurophagus', 'Alvarezsaurus', 'Mantellisaurus', 'Aristosaurus', 'Suzhousaurus', 'Limnosaurus', 'Dromaeosauroides', 'Augustia', 'Spinosaurid', 'Othnielia', 'Thecospondylus', 'Cetacea', 'Medusaceratops', 'Zalmoxes', 'Koreaceratops', 'Syngonosaurus', 'Dicraeosaurus', 'Xenoceratops', 'Scleromochlus', 'Deinocheirus', 'Chuandongocoelurus', 'Itemirus', 'Phyllodon', 'Megaraptor', 'Philovenator', 'Ferganasaurus', 'Pelorosaurus', 'Nebulasaurus', 'Barilium', 'Nedoceratops', 'Acanthopholis', 'Nuthetes', 'Panoplosaurus', 'Quaesitosaurus', 'Crocodile', 'Archaeoraptor', 'Charonosaurus', 'Eureodon', 'Hanssuesia', 'Guaibasaurus', 'Camposaurus', 'Hylosaurus', 'Zapsalis', 'Bistahieversor', 'Erlicosaurus', 'Procompsognathus', 'Hypselosaurus', 'Prenocephale', 'Malarguesaurus', 'Tenontosaurus', 'Kittysaurus', 'Iguanodon', 'Palaeoctonus', 'Trachodon', 'Wyomingraptor', 'Huehuecanauhtlus', 'Theiophytalia', 'Nectosaurus', 'Scolosaurus', 'Pisanosaurus', 'Kunmingosaurus', 'Liubangosaurus', 'Malawisaurus', 'Pakisaurus', 'Carnosaur', 'Leonerasaurus', 'Oviraptor', 'Texacephale', 'Shantungosaurus', 'Zhuchengosaurus', 'Gripposaurus', 'Polacanthus', 'Xenotarsosaurus', 'Dinosauriform', 'Hypsibema', 'Podokesaurus', 'Sonidosaurus', 'Colepiocephale', 'Kelmayisaurus', 'Crichtonsaurus', 'Stegoceras', 'Borogovia', 'Lourinhasaurus', 'Picrodon', 'Mononychus', 'Bothriospondylus', 'Siamosaurus', 'Technosaurus', 'Theropod', 'Neosodon', 'Velociraptor', 'Eolosaurus', 'Archaeovolans', 'Chebsaurus', 'Compsosuchus', 'Othnielosaurus', 'Banji', 'Proiguanodon', 'Rahonavis', 'Majungasaurus', 'Nanotyrannosaurus', 'Bissektipelta', 'Revueltosaurus', 'Lexovisaurus', 'Antrodemus', 'Hikanodon', 'Tyrannosaurus', 'Barrosasaurus', 'Sinoceratops', 'Megadontosaurus', 'Sinosauropteryx', 'Heilongjiangosaurus', 'Maxakalisaurus', 'Jensenosaurus', 'Dandakosaurus', 'Therosaurus', 'Sarahsaurus', 'Hypselorhachis', 'Archaeodontosaurus', 'Gresslyosaurus', 'Stenopelix']}\n"
     ]
    }
   ],
   "source": [
    "with open('dinosaurs.json') as json_data:\n",
    "    d = json.load(json_data)\n",
    "    print(d)"
   ]
  },
  {
   "cell_type": "code",
   "execution_count": 4,
   "metadata": {},
   "outputs": [],
   "source": [
    "data = d['dinosaurs']"
   ]
  },
  {
   "cell_type": "code",
   "execution_count": 5,
   "metadata": {},
   "outputs": [],
   "source": [
    "file = open('dinotext.txt','a') "
   ]
  },
  {
   "cell_type": "code",
   "execution_count": 6,
   "metadata": {},
   "outputs": [],
   "source": [
    "for i in data:\n",
    "    file.write(i)\n",
    "    file.write('\\n')\n",
    "file.close()"
   ]
  },
  {
   "cell_type": "code",
   "execution_count": 7,
   "metadata": {},
   "outputs": [
    {
     "name": "stdout",
     "output_type": "stream",
     "text": [
      "There are 37539 total characters and 27 unique characters in your data.\n"
     ]
    }
   ],
   "source": [
    "data = open('dinotext.txt', 'r').read()\n",
    "data = data.lower()\n",
    "chars = list(set(data))\n",
    "data_size, vocab_size = len(data), len(chars)\n",
    "print('There are %d total characters and %d unique characters in your data.' % (data_size, vocab_size))"
   ]
  },
  {
   "cell_type": "code",
   "execution_count": 8,
   "metadata": {},
   "outputs": [
    {
     "name": "stdout",
     "output_type": "stream",
     "text": [
      "{0: '\\n', 1: 'a', 2: 'b', 3: 'c', 4: 'd', 5: 'e', 6: 'f', 7: 'g', 8: 'h', 9: 'i', 10: 'j', 11: 'k', 12: 'l', 13: 'm', 14: 'n', 15: 'o', 16: 'p', 17: 'q', 18: 'r', 19: 's', 20: 't', 21: 'u', 22: 'v', 23: 'w', 24: 'x', 25: 'y', 26: 'z'}\n"
     ]
    }
   ],
   "source": [
    "# Character to index and index to character\n",
    "char_to_ix = { ch:i for i,ch in enumerate(sorted(chars)) }\n",
    "ix_to_char = { i:ch for i,ch in enumerate(sorted(chars)) }\n",
    "print(ix_to_char)"
   ]
  },
  {
   "cell_type": "code",
   "execution_count": 9,
   "metadata": {},
   "outputs": [],
   "source": [
    "# Clips the gradients' values between minimum and maximum.\n",
    "def clip(gradients, maxValue):\n",
    "    # Arguments:\n",
    "    # gradients -- a dictionary containing the gradients \"dWaa\", \"dWax\", \"dWya\", \"db\", \"dby\"\n",
    "    # maxValue -- everything above this number is set to this number, and everything less than -maxValue is set to -maxValue\n",
    "    dWaa, dWax, dWya, db, dby = gradients['dWaa'], gradients['dWax'], gradients['dWya'], gradients['db'], gradients['dby']\n",
    "   \n",
    "    # clip to mitigate exploding gradients, loop over [dWax, dWaa, dWya, db, dby]\n",
    "    for gradient in [dWax, dWaa, dWya, db, dby]:\n",
    "        np.clip(gradient, -maxValue, maxValue, out=gradient)\n",
    "    \n",
    "    gradients = {\"dWaa\": dWaa, \"dWax\": dWax, \"dWya\": dWya, \"db\": db, \"dby\": dby}\n",
    "    \n",
    "    return gradients # gradients -- a dictionary with the clipped gradients."
   ]
  },
  {
   "cell_type": "code",
   "execution_count": 10,
   "metadata": {},
   "outputs": [
    {
     "name": "stdout",
     "output_type": "stream",
     "text": [
      "gradients[\"dWaa\"][1][2] = 10.0\n",
      "gradients[\"dWax\"][3][1] = -10.0\n",
      "gradients[\"dWya\"][1][2] = 0.2971381536101662\n",
      "gradients[\"db\"][4] = [10.]\n",
      "gradients[\"dby\"][1] = [8.45833407]\n"
     ]
    }
   ],
   "source": [
    "# testing clip()\n",
    "np.random.seed(3)\n",
    "dWax = np.random.randn(5,3)*10\n",
    "dWaa = np.random.randn(5,5)*10\n",
    "dWya = np.random.randn(2,5)*10\n",
    "db = np.random.randn(5,1)*10\n",
    "dby = np.random.randn(2,1)*10\n",
    "gradients = {\"dWax\": dWax, \"dWaa\": dWaa, \"dWya\": dWya, \"db\": db, \"dby\": dby}\n",
    "gradients = clip(gradients, 10)\n",
    "print(\"gradients[\\\"dWaa\\\"][1][2] =\", gradients[\"dWaa\"][1][2])\n",
    "print(\"gradients[\\\"dWax\\\"][3][1] =\", gradients[\"dWax\"][3][1])\n",
    "print(\"gradients[\\\"dWya\\\"][1][2] =\", gradients[\"dWya\"][1][2])\n",
    "print(\"gradients[\\\"db\\\"][4] =\", gradients[\"db\"][4])\n",
    "print(\"gradients[\\\"dby\\\"][1] =\", gradients[\"dby\"][1])"
   ]
  },
  {
   "cell_type": "code",
   "execution_count": 11,
   "metadata": {},
   "outputs": [],
   "source": [
    "# Sample a sequence of characters according to a sequence of probability distributions output of the RNN\n",
    "\n",
    "def sample(parameters, char_to_ix, seed):\n",
    "    # Arguments:\n",
    "    # parameters -- python dictionary containing the parameters Waa, Wax, Wya, by, and b. \n",
    "    # char_to_ix -- python dictionary mapping each character to an index.\n",
    "    # seed -- used for grading purposes. Do not worry about it.\n",
    "  \n",
    "    Waa, Wax, Wya, by, b = parameters['Waa'], parameters['Wax'], parameters['Wya'], parameters['by'], parameters['b']\n",
    "    vocab_size = by.shape[0]\n",
    "    n_a = Waa.shape[1]\n",
    "    \n",
    "    x = np.zeros((vocab_size, 1)) # Create the one-hot vector x for the first character (initializing the sequence generation)\n",
    "    \n",
    "    a_prev = np.zeros((n_a, 1)) # Initialize a_prev as zeros\n",
    "    \n",
    "    indices = []\n",
    "        \n",
    "    idx = -1  # Idx is a flag to detect a newline character, we initialize it to -1\n",
    "    \n",
    "    # Loop over time-steps t. At each time-step, sample a character from a probability distribution and append \n",
    "    # its index to \"indices\". We'll stop if we reach 50 characters (which should be very unlikely with a well \n",
    "    # trained model), which helps debugging and prevents entering an infinite loop. \n",
    "    counter = 0\n",
    "    newline_character = char_to_ix['\\n']\n",
    "    \n",
    "    while (idx != newline_character and counter != 50):\n",
    "        \n",
    "        \n",
    "        a = np.tanh(np.dot(Wax, x) + np.dot(Waa, a_prev) + b) # Forward propagate x\n",
    "        z = np.dot(Wya, a) + by\n",
    "        y = softmax(z)\n",
    "        \n",
    "        np.random.seed(counter + seed)  # for grading purposes\n",
    "        \n",
    "        idx = np.random.choice(list(range(vocab_size)), p=y.ravel()) # Sample the index of a character within the vocabulary from the probability distribution y\n",
    "\n",
    "        indices.append(idx) # Append the index to \"indices\"\n",
    "        \n",
    "        x = np.zeros((vocab_size, 1)) # Overwrite the input character as the one corresponding to the sampled index.\n",
    "        x[idx] = 1\n",
    "        \n",
    "        a_prev = a # Update \"a_prev\" to be \"a\"\n",
    "        \n",
    "        seed += 1 # for grading purposes\n",
    "        counter +=1\n",
    "\n",
    "    if (counter == 50):\n",
    "        indices.append(char_to_ix['\\n'])\n",
    "    \n",
    "    return indices # indices -- a list of length n containing the indices of the sampled characters."
   ]
  },
  {
   "cell_type": "code",
   "execution_count": 12,
   "metadata": {},
   "outputs": [
    {
     "name": "stdout",
     "output_type": "stream",
     "text": [
      "Sampling:\n",
      "list of sampled indices: [12, 17, 24, 14, 13, 9, 10, 22, 24, 6, 13, 11, 12, 6, 21, 15, 21, 14, 3, 2, 1, 21, 18, 24, 7, 25, 6, 25, 18, 10, 16, 2, 3, 8, 15, 12, 11, 7, 1, 12, 10, 2, 7, 7, 11, 17, 24, 1, 13, 0, 0]\n",
      "list of sampled characters: ['l', 'q', 'x', 'n', 'm', 'i', 'j', 'v', 'x', 'f', 'm', 'k', 'l', 'f', 'u', 'o', 'u', 'n', 'c', 'b', 'a', 'u', 'r', 'x', 'g', 'y', 'f', 'y', 'r', 'j', 'p', 'b', 'c', 'h', 'o', 'l', 'k', 'g', 'a', 'l', 'j', 'b', 'g', 'g', 'k', 'q', 'x', 'a', 'm', '\\n', '\\n']\n"
     ]
    }
   ],
   "source": [
    "# testing sample()\n",
    "np.random.seed(2)\n",
    "_, n_a = 20, 100\n",
    "Wax, Waa, Wya = np.random.randn(n_a, vocab_size), np.random.randn(n_a, n_a), np.random.randn(vocab_size, n_a)\n",
    "b, by = np.random.randn(n_a, 1), np.random.randn(vocab_size, 1)\n",
    "parameters = {\"Wax\": Wax, \"Waa\": Waa, \"Wya\": Wya, \"b\": b, \"by\": by}\n",
    "\n",
    "\n",
    "indices = sample(parameters, char_to_ix, 0)\n",
    "print(\"Sampling:\")\n",
    "print(\"list of sampled indices:\", indices)\n",
    "print(\"list of sampled characters:\", [ix_to_char[i] for i in indices])"
   ]
  },
  {
   "cell_type": "code",
   "execution_count": 31,
   "metadata": {},
   "outputs": [],
   "source": [
    "# Execute one step of the optimization to train the model.\n",
    "\n",
    "def optimize(X, Y, a_prev, parameters, learning_rate = 0.01):\n",
    "    \n",
    "    # Arguments:\n",
    "    # X -- list of integers, where each integer is a number that maps to a character in the vocabulary.\n",
    "    # Y -- list of integers, exactly the same as X but shifted one index to the left.\n",
    "    # a_prev -- previous hidden state.\n",
    "    # parameters -- python dictionary containing:\n",
    "    #                     Wax -- Weight matrix multiplying the input, numpy array of shape (n_a, n_x)\n",
    "    #                     Waa -- Weight matrix multiplying the hidden state, numpy array of shape (n_a, n_a)\n",
    "    #                     Wya -- Weight matrix relating the hidden-state to the output, numpy array of shape (n_y, n_a)\n",
    "    #                     b --  Bias, numpy array of shape (n_a, 1)\n",
    "    #                     by -- Bias relating the hidden-state to the output, numpy array of shape (n_y, 1)\n",
    "    # learning_rate -- learning rate for the model.\n",
    "    \n",
    "    # Forward propagate through time \n",
    "    loss, cache = rnn_forward(X, Y, a_prev, parameters)\n",
    "    \n",
    "    # Backpropagate through time \n",
    "    gradients, a = rnn_backward(X, Y, parameters, cache)\n",
    "    \n",
    "    # Clip your gradients between -5 (min) and 5 (max) \n",
    "    gradients = clip(gradients, 5)\n",
    "    \n",
    "    # Update parameters \n",
    "    parameters = update_parameters(parameters, gradients, learning_rate)\n",
    "    \n",
    "    # Returns:\n",
    "    # loss -- value of the loss function (cross-entropy)\n",
    "    # gradients -- python dictionary containing:\n",
    "    #                     dWax -- Gradients of input-to-hidden weights, of shape (n_a, n_x)\n",
    "    #                     dWaa -- Gradients of hidden-to-hidden weights, of shape (n_a, n_a)\n",
    "    #                     dWya -- Gradients of hidden-to-output weights, of shape (n_y, n_a)\n",
    "    #                     db -- Gradients of bias vector, of shape (n_a, 1)\n",
    "    #                     dby -- Gradients of output bias vector, of shape (n_y, 1)\n",
    "    # a[len(X)-1] -- the last hidden state, of shape (n_a, 1)\n",
    "    return loss, gradients, a[len(X)-1]"
   ]
  },
  {
   "cell_type": "code",
   "execution_count": 32,
   "metadata": {},
   "outputs": [
    {
     "name": "stdout",
     "output_type": "stream",
     "text": [
      "Loss = 126.50397572165382\n",
      "gradients[\"dWaa\"][1][2] = 0.1947093153471637\n",
      "np.argmax(gradients[\"dWax\"]) = 93\n",
      "gradients[\"dWya\"][1][2] = -0.007773876032002977\n",
      "gradients[\"db\"][4] = [-0.06809825]\n",
      "gradients[\"dby\"][1] = [0.01538192]\n",
      "a_last[4] = [-1.]\n"
     ]
    }
   ],
   "source": [
    "# Testing Optimize\n",
    "np.random.seed(1)\n",
    "vocab_size, n_a = 27, 100\n",
    "a_prev = np.random.randn(n_a, 1)\n",
    "Wax, Waa, Wya = np.random.randn(n_a, vocab_size), np.random.randn(n_a, n_a), np.random.randn(vocab_size, n_a)\n",
    "b, by = np.random.randn(n_a, 1), np.random.randn(vocab_size, 1)\n",
    "parameters = {\"Wax\": Wax, \"Waa\": Waa, \"Wya\": Wya, \"b\": b, \"by\": by}\n",
    "X = [12,3,5,11,22,3]\n",
    "Y = [4,14,11,22,25, 26]\n",
    "\n",
    "loss, gradients, a_last = optimize(X, Y, a_prev, parameters, learning_rate = 0.01)\n",
    "print(\"Loss =\", loss)\n",
    "print(\"gradients[\\\"dWaa\\\"][1][2] =\", gradients[\"dWaa\"][1][2])\n",
    "print(\"np.argmax(gradients[\\\"dWax\\\"]) =\", np.argmax(gradients[\"dWax\"]))\n",
    "print(\"gradients[\\\"dWya\\\"][1][2] =\", gradients[\"dWya\"][1][2])\n",
    "print(\"gradients[\\\"db\\\"][4] =\", gradients[\"db\"][4])\n",
    "print(\"gradients[\\\"dby\\\"][1] =\", gradients[\"dby\"][1])\n",
    "print(\"a_last[4] =\", a_last[4])"
   ]
  },
  {
   "cell_type": "code",
   "execution_count": 33,
   "metadata": {},
   "outputs": [],
   "source": [
    "# Trains the model and generates dinosaur names\n",
    "\n",
    "def model(data, ix_to_char, char_to_ix, num_iterations = 35000, n_a = 50, dino_names = 7, vocab_size = 27):\n",
    "    \n",
    "    # Arguments:\n",
    "    # data -- text corpus\n",
    "    # ix_to_char -- dictionary that maps the index to a character\n",
    "    # char_to_ix -- dictionary that maps a character to an index\n",
    "    # num_iterations -- number of iterations to train the model for\n",
    "    # n_a -- number of units of the RNN cell\n",
    "    # dino_names -- number of dinosaur names you want to sample at each iteration. \n",
    "    # vocab_size -- number of unique characters found in the text, size of the vocabulary\n",
    "\n",
    "    # Retrieve n_x and n_y from vocab_size\n",
    "    n_x, n_y = vocab_size, vocab_size\n",
    "    \n",
    "    parameters = initialize_parameters(n_a, n_x, n_y)\n",
    "    \n",
    "    # Initialize loss\n",
    "    loss = get_initial_loss(vocab_size, dino_names)\n",
    "    \n",
    "    # Build list of all dinosaur names (training examples).\n",
    "    with open(\"dinotext.txt\") as f:\n",
    "        examples = f.readlines()\n",
    "    examples = [x.lower().strip() for x in examples]\n",
    "    \n",
    "    # Shuffle list of all dinosaur names\n",
    "    np.random.seed(0)\n",
    "    np.random.shuffle(examples)\n",
    "    \n",
    "    # Initialize the hidden state of your LSTM\n",
    "    a_prev = np.zeros((n_a, 1))\n",
    "    \n",
    "    # Optimization loop\n",
    "    for j in range(num_iterations):\n",
    "        \n",
    "        # Use the hint above to define one training example (X,Y) (≈ 2 lines)\n",
    "        index = j % len(examples)\n",
    "        X = [None] + [char_to_ix[ch] for ch in examples[index]] \n",
    "        Y = X[1:] + [char_to_ix[\"\\n\"]]\n",
    "        \n",
    "        # Perform one optimization step: Forward-prop -> Backward-prop -> Clip -> Update parameters\n",
    "        # Choose a learning rate of 0.01\n",
    "        curr_loss, gradients, a_prev = optimize(X, Y, a_prev, parameters, learning_rate = 0.01)\n",
    "        \n",
    "        # Use a latency trick to keep the loss smooth. It happens here to accelerate the training.\n",
    "        loss = smooth(loss, curr_loss)\n",
    "\n",
    "        # Every 2000 Iteration, generate \"n\" characters thanks to sample() to check if the model is learning properly\n",
    "        if j % 2000 == 0:\n",
    "            \n",
    "            print('Iteration: %d, Loss: %f' % (j, loss) + '\\n')\n",
    "            \n",
    "            # The number of dinosaur names to print\n",
    "            seed = 0\n",
    "            for name in range(dino_names):\n",
    "                \n",
    "                # Sample indices and print them\n",
    "                sampled_indices = sample(parameters, char_to_ix, seed)\n",
    "                #print_sample(sampled_indices, ix_to_char)\n",
    "                txt = ''.join(ix_to_char[ix] for ix in sampled_indices)\n",
    "                txt = txt[0].upper() + txt[1:]  # capitalize first character \n",
    "                print ('%s' % (txt, ), end='')\n",
    "                \n",
    "                seed += 1  # To get the same result for grading purposed, increment the seed by one. \n",
    "      \n",
    "            print('\\n')\n",
    "        \n",
    "    return parameters"
   ]
  },
  {
   "cell_type": "code",
   "execution_count": null,
   "metadata": {},
   "outputs": [
    {
     "name": "stdout",
     "output_type": "stream",
     "text": [
      "Iteration: 0, Loss: 23.090631\n",
      "\n",
      "Nkzxwtdmfqoeyhsqwasjkjvu\n",
      "Kneb\n",
      "Kzxwtdmfqoeyhsqwasjkjvu\n",
      "Neb\n",
      "Zxwtdmfqoeyhsqwasjkjvu\n",
      "Eb\n",
      "Xwtdmfqoeyhsqwasjkjvu\n",
      "\n",
      "\n",
      "Iteration: 2000, Loss: 27.607879\n",
      "\n",
      "Lhvsosaurus\n",
      "Hica\n",
      "Hvtosaurus\n",
      "Lacaesiecantisaurus\n",
      "Xusamhcopcurtos\n",
      "Ba\n",
      "Tosaurus\n",
      "\n",
      "\n",
      "Iteration: 4000, Loss: 25.708015\n",
      "\n",
      "Mbvuslangosaurus\n",
      "Hhacalropa\n",
      "Iustlangosaurus\n",
      "Macalrphachusathus\n",
      "Vuspandoraveros\n",
      "Acalrracaptos\n",
      "Torangosaurus\n",
      "\n",
      "\n",
      "Iteration: 6000, Loss: 24.470059\n",
      "\n",
      "Nivusiaodon\n",
      "Inedansicabluosaurus\n",
      "Jyusodongonylushasaurus\n",
      "Necalptia\n",
      "Wuspangosaurus\n",
      "Caagotegasiisasaurusadinucatosaurus\n",
      "Trodonosaurus\n",
      "\n",
      "\n",
      "Iteration: 8000, Loss: 23.769791\n",
      "\n",
      "Nixus\n",
      "Inca\n",
      "Lyvus\n",
      "Ncaacosaurus\n",
      "Wuspchasaurus\n",
      "Caacosaurus\n",
      "Troceidiaurosaurus\n",
      "\n",
      "\n",
      "Iteration: 10000, Loss: 23.550817\n",
      "\n",
      "Onxustardosaurus\n",
      "Llecalruracisaurus\n",
      "Lyutodonosaurus\n",
      "Olaagptia\n",
      "Vutranfus\n",
      "Dabdrumachus\n",
      "Tus\n",
      "\n",
      "\n",
      "Iteration: 12000, Loss: 23.114005\n",
      "\n",
      "Onyusochosaurus\n",
      "Loeeaisof\n",
      "Lyvosaurus\n",
      "Olaahosaurus\n",
      "Vuspeniosaurus\n",
      "Daagosaurus\n",
      "Trocidosaurus\n",
      "\n",
      "\n",
      "Iteration: 14000, Loss: 22.913233\n",
      "\n",
      "Mextosaurus\n",
      "Ingbalosaurus\n",
      "Ivosaurus\n",
      "Macalosaurus\n",
      "Wutops\n",
      "Dabessaodosaurus\n",
      "Trodon\n",
      "\n",
      "\n",
      "Iteration: 16000, Loss: 23.053871\n",
      "\n",
      "Mautosaurus\n",
      "Hela\n",
      "Itrosaurus\n",
      "Macalosaurus\n",
      "Ustodon\n",
      "Baaisodacordwallurhax\n",
      "Straphor\n",
      "\n",
      "\n",
      "Iteration: 18000, Loss: 22.606134\n",
      "\n",
      "Ngyusoch\n",
      "Lidacerma\n",
      "Lutosaurus\n",
      "Ndacersaurus\n",
      "Vusrangosaurus\n",
      "Egajptopanscrelluradyenntalrosaurus\n",
      "Trodon\n",
      "\n",
      "\n",
      "Iteration: 20000, Loss: 22.471750\n",
      "\n",
      "Leyvosaurus\n",
      "Imacalosaurus\n",
      "Kywroenatheurins\n",
      "Lacalosaurus\n",
      "Wusodon\n",
      "Caachyegaschyelosaurus\n",
      "Trochannives\n",
      "\n",
      "\n",
      "Iteration: 22000, Loss: 22.560738\n",
      "\n",
      "Ngxusterasaurus\n",
      "Kigaakrus\n",
      "Lutromeisaurus\n",
      "Ncabaspicantisaurus\n",
      "Wutraphosaurus\n",
      "Egalosaurus\n",
      "Tusandosaurus\n",
      "\n",
      "\n"
     ]
    }
   ],
   "source": [
    "# The model is outputting random-looking characters at the first iteration.\n",
    "# After a few thousand iterations, the model learns to generate reasonable-looking names.\n",
    "parameters = model(data, ix_to_char, char_to_ix)"
   ]
  },
  {
   "cell_type": "code",
   "execution_count": null,
   "metadata": {},
   "outputs": [],
   "source": []
  }
 ],
 "metadata": {
  "kernelspec": {
   "display_name": "Python 3",
   "language": "python",
   "name": "python3"
  },
  "language_info": {
   "codemirror_mode": {
    "name": "ipython",
    "version": 3
   },
   "file_extension": ".py",
   "mimetype": "text/x-python",
   "name": "python",
   "nbconvert_exporter": "python",
   "pygments_lexer": "ipython3",
   "version": "3.6.4"
  }
 },
 "nbformat": 4,
 "nbformat_minor": 2
}

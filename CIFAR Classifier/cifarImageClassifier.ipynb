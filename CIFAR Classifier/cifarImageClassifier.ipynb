{
 "cells": [
  {
   "cell_type": "code",
   "execution_count": 1,
   "metadata": {},
   "outputs": [
    {
     "name": "stderr",
     "output_type": "stream",
     "text": [
      "C:\\Anaconda3\\lib\\site-packages\\h5py\\__init__.py:36: FutureWarning: Conversion of the second argument of issubdtype from `float` to `np.floating` is deprecated. In future, it will be treated as `np.float64 == np.dtype(float).type`.\n",
      "  from ._conv import register_converters as _register_converters\n"
     ]
    }
   ],
   "source": [
    "# Importing the libraries\n",
    "%matplotlib inline\n",
    "%config InlineBackend.figure_format = 'retina'\n",
    "\n",
    "import helper\n",
    "import numpy as np\n",
    "from urllib.request import urlretrieve\n",
    "from os.path import isfile, isdir\n",
    "from tqdm import tqdm\n",
    "import tester as tests\n",
    "import tarfile\n",
    "import pickle\n",
    "from sklearn.preprocessing import LabelBinarizer\n",
    "import tensorflow  as tf"
   ]
  },
  {
   "cell_type": "code",
   "execution_count": 2,
   "metadata": {},
   "outputs": [],
   "source": [
    "cifar10_dataset_folder_path = 'cifar-10-batches-py'\n",
    "\n",
    "#Importing the Dataset\n",
    "\n",
    "class DLProgress(tqdm):\n",
    "    last_block = 0\n",
    "\n",
    "    def hook(self, block_num=1, block_size=1, total_size=None):\n",
    "        self.total = total_size\n",
    "        self.update((block_num - self.last_block) * block_size)\n",
    "        self.last_block = block_num\n",
    "\n",
    "if not isfile('cifar-10-python.tar.gz'):\n",
    "    with DLProgress(unit='B', unit_scale=True, miniters=1, desc='CIFAR-10 Dataset') as pbar:\n",
    "        urlretrieve(\n",
    "            'https://www.cs.toronto.edu/~kriz/cifar-10-python.tar.gz',\n",
    "            'cifar-10-python.tar.gz',\n",
    "            pbar.hook)\n",
    "\n",
    "if not isdir(cifar10_dataset_folder_path):\n",
    "    with tarfile.open('cifar-10-python.tar.gz') as tar:\n",
    "        tar.extractall()\n",
    "        tar.close()"
   ]
  },
  {
   "cell_type": "code",
   "execution_count": 3,
   "metadata": {},
   "outputs": [
    {
     "name": "stdout",
     "output_type": "stream",
     "text": [
      "\n",
      "Stats of batch 1:\n",
      "Samples: 10000\n",
      "Label Counts: {0: 1005, 1: 974, 2: 1032, 3: 1016, 4: 999, 5: 937, 6: 1030, 7: 1001, 8: 1025, 9: 981}\n",
      "First 20 Labels: [6, 9, 9, 4, 1, 1, 2, 7, 8, 3, 4, 7, 7, 2, 9, 9, 9, 3, 2, 6]\n",
      "\n",
      "Example of Image 10:\n",
      "Image - Min Value: 24 Max Value: 130\n",
      "Image - Shape: (32, 32, 3)\n",
      "Label - Label Id: 4 Name: deer\n"
     ]
    },
    {
     "data": {
      "image/png": "[encoded data removed]",
      "text/plain": [
       "<matplotlib.figure.Figure at 0x13ba8fcb7b8>"
      ]
     },
     "metadata": {
      "image/png": {
       "height": 250,
       "width": 253
      }
     },
     "output_type": "display_data"
    }
   ],
   "source": [
    "# Explore the dataset\n",
    "batch_id = 1\n",
    "sample_id = 10\n",
    "helper.display_stats(cifar10_dataset_folder_path, batch_id, sample_id)"
   ]
  },
  {
   "cell_type": "code",
   "execution_count": 5,
   "metadata": {},
   "outputs": [],
   "source": [
    "# Normalize a list of sample image data in the range of 0 to 1\n",
    "def normalize(x):\n",
    "    return x / 255"
   ]
  },
  {
   "cell_type": "code",
   "execution_count": 4,
   "metadata": {},
   "outputs": [],
   "source": [
    "# One hot encode a list of sample labels\n",
    "# The possible values for labels are 0 to 9. 10 in total\n",
    "def one_hot_encode(x):\n",
    "    return np.eye(10)[x] "
   ]
  },
  {
   "cell_type": "code",
   "execution_count": 6,
   "metadata": {},
   "outputs": [],
   "source": [
    "# Preprocess Training, Validation, and Testing Data\n",
    "helper.preprocess_and_save_data(cifar10_dataset_folder_path, normalize, one_hot_encode)"
   ]
  },
  {
   "cell_type": "code",
   "execution_count": 7,
   "metadata": {},
   "outputs": [],
   "source": [
    "# Load the Preprocessed Validation data\n",
    "valid_features, valid_labels = pickle.load(open('preprocess_validation.p', mode='rb'))"
   ]
  },
  {
   "cell_type": "code",
   "execution_count": 8,
   "metadata": {},
   "outputs": [],
   "source": [
    "# Helper functions for \n",
    "def neural_net_image_input(image_shape):\n",
    "    return tf.placeholder(tf.float32, shape=[None, *image_shape], name = \"x\")\n",
    "\n",
    "\n",
    "def neural_net_label_input(n_classes):\n",
    "    return tf.placeholder(tf.float32, shape=[None, n_classes], name = \"y\")\n",
    "\n",
    "\n",
    "def neural_net_keep_prob_input():\n",
    "    return tf.placeholder(tf.float32, name=\"keep_prob\")\n"
   ]
  },
  {
   "cell_type": "code",
   "execution_count": 9,
   "metadata": {},
   "outputs": [],
   "source": [
    "tf.reset_default_graph()"
   ]
  },
  {
   "cell_type": "code",
   "execution_count": 11,
   "metadata": {},
   "outputs": [],
   "source": [
    "def conv2d_maxpool(x_tensor, conv_num_outputs, conv_ksize, conv_strides, pool_ksize, pool_strides):\n",
    "\n",
    "    input_depth = x_tensor.shape[-1].value\n",
    "\n",
    "    weights = tf.Variable( tf.truncated_normal( shape=[ conv_ksize[0], conv_ksize[1], input_depth, conv_num_outputs], \n",
    "            mean=0.0, stddev=0.1), name='weights') \n",
    "    \n",
    "    bias = tf.Variable(tf.zeros(conv_num_outputs), trainable=True)\n",
    "    \n",
    "    # Adding Convolution layer\n",
    "    conv_layer = tf.nn.conv2d(x_tensor, weights, strides=[1, *conv_strides, 1], padding='SAME')\n",
    "    \n",
    "    # Adding Bias\n",
    "    conv_layer = tf.nn.bias_add(conv_layer, bias)\n",
    "    \n",
    "    # Adding ReLu\n",
    "    conv_layer = tf.nn.relu(conv_layer)\n",
    "    \n",
    "    # Applying Max Pooling\n",
    "    conv_layer = tf.nn.max_pool(conv_layer, ksize=[1, *pool_ksize, 1], strides=[1, *pool_strides, 1], padding='SAME')\n",
    "    \n",
    "    return conv_layer \n"
   ]
  },
  {
   "cell_type": "code",
   "execution_count": 12,
   "metadata": {},
   "outputs": [],
   "source": [
    "#  Flattening the x_tensor to (Batch Size, Flattened Image Size)\n",
    "def flatten(x_tensor):\n",
    "    return tf.reshape(x_tensor, [-1, x_tensor.get_shape()[1:4].num_elements()])\n"
   ]
  },
  {
   "cell_type": "code",
   "execution_count": 13,
   "metadata": {},
   "outputs": [],
   "source": [
    "# Defining fully connected layer\n",
    "def  fully_conn(x_tensor, num_outputs):\n",
    "    \n",
    "    batch_size = x_tensor.shape[1].value\n",
    "    \n",
    "    weights = tf.Variable( tf.truncated_normal( [batch_size, num_outputs], mean = 0, stddev=0.1))\n",
    "    \n",
    "    bias = tf.Variable(tf.zeros(num_outputs))\n",
    "\n",
    "    fully_conn_layer = tf.matmul(x_tensor, weights)\n",
    "    fully_conn_layer = tf.nn.bias_add(fully_conn_layer, bias)\n",
    "    fully_conn_layer = tf.nn.relu(fully_conn_layer)\n",
    "\n",
    "    return fully_conn_layer\n"
   ]
  },
  {
   "cell_type": "code",
   "execution_count": 15,
   "metadata": {},
   "outputs": [],
   "source": [
    "# Defining output layer\n",
    "def output(x_tensor, num_outputs):\n",
    "   \n",
    "    batch_size = x_tensor.shape[1].value\n",
    "    weights = tf.Variable( tf.truncated_normal( [batch_size, num_outputs], mean = 0, stddev=0.1))    \n",
    "    bias = tf.Variable(tf.zeros(num_outputs))\n",
    "    \n",
    "    output_layer = tf.matmul(x_tensor, weights)\n",
    "    output_layer = tf.nn.bias_add(output_layer, bias)\n",
    "    \n",
    "    return output_layer"
   ]
  },
  {
   "cell_type": "code",
   "execution_count": 16,
   "metadata": {},
   "outputs": [],
   "source": [
    "# Defining a convolutional neural network\n",
    "def conv_net(x, keep_prob): # x as the image size\n",
    "    \n",
    "    conv_num_outputs_layer1 = 32\n",
    "    conv_num_outputs_layer2 = 64\n",
    "    conv_num_outputs_layer3 = 128\n",
    "    fully_conn_num_outputs_layer_1 = 256\n",
    "    fully_conn_num_outputs_layer_2 = 512\n",
    "    conv_ksize = (5, 5)\n",
    "    conv_strides = (1, 1)\n",
    "    pool_ksize = (2, 2)\n",
    "    pool_strides = (2, 2)\n",
    "    \n",
    "    common_params = [conv_ksize, conv_strides, pool_ksize, pool_strides]\n",
    "    \n",
    "    # Apply 1, 2, or 3 Convolution and Max Pool layers\n",
    "    conv_layer_1 = conv2d_maxpool(x, conv_num_outputs_layer1, *common_params)\n",
    "    conv_layer_1 = tf.nn.dropout(conv_layer_1, keep_prob)\n",
    "    \n",
    "    conv_layer_2 = conv2d_maxpool(conv_layer_1, conv_num_outputs_layer2, *common_params)\n",
    "    conv_layer_2 = tf.nn.dropout(conv_layer_2, keep_prob)\n",
    "    \n",
    "    conv_layer_3 = conv2d_maxpool(conv_layer_2, conv_num_outputs_layer3, *common_params)\n",
    "    conv_layer_3 = tf.nn.dropout(conv_layer_3, keep_prob)\n",
    "    \n",
    "    # Apply a Flatten Layer\n",
    "    flatten_layer_1 = flatten(conv_layer_3)\n",
    "\n",
    "    # Apply 1, 2, or 3 Fully Connected Layers\n",
    "    fully_conn_layer_1 = fully_conn(flatten_layer_1, fully_conn_num_outputs_layer_1)\n",
    "    fully_conn_layer_1 = tf.nn.dropout(fully_conn_layer_1, keep_prob)\n",
    "    fully_conn_layer_2 = fully_conn(flatten_layer_1, fully_conn_num_outputs_layer_2)\n",
    "    fully_conn_layer_2 = tf.nn.dropout(fully_conn_layer_2, keep_prob)\n",
    "    \n",
    "    # Apply an Output Layer\n",
    "    num_outputs = 10 # 10 classes\n",
    "    output_layer = output(fully_conn_layer_2, num_outputs)\n",
    "    \n",
    "    return output_layer\n"
   ]
  },
  {
   "cell_type": "code",
   "execution_count": 17,
   "metadata": {},
   "outputs": [
    {
     "name": "stdout",
     "output_type": "stream",
     "text": [
      "WARNING:tensorflow:From <ipython-input-17-577096661692>:18: softmax_cross_entropy_with_logits (from tensorflow.python.ops.nn_ops) is deprecated and will be removed in a future version.\n",
      "Instructions for updating:\n",
      "\n",
      "Future major versions of TensorFlow will allow gradients to flow\n",
      "into the labels input on backprop by default.\n",
      "\n",
      "See @{tf.nn.softmax_cross_entropy_with_logits_v2}.\n",
      "\n"
     ]
    }
   ],
   "source": [
    "# Build the Neural Network\n",
    "tf.reset_default_graph()\n",
    "\n",
    "# Inputs\n",
    "x = neural_net_image_input((32, 32, 3))\n",
    "y = neural_net_label_input(10)\n",
    "keep_prob = neural_net_keep_prob_input()\n",
    "\n",
    "# The output of the model\n",
    "logits = conv_net(x, keep_prob)\n",
    "\n",
    "# Name logits Tensor, so that is can be loaded from disk after training\n",
    "logits = tf.identity(logits, name='logits')\n",
    "\n",
    "# Loss and Optimizer\n",
    "cost = tf.reduce_mean(tf.nn.softmax_cross_entropy_with_logits(logits=logits, labels=y))\n",
    "optimizer = tf.train.AdamOptimizer().minimize(cost)\n",
    "\n",
    "# Accuracy\n",
    "correct_pred = tf.equal(tf.argmax(logits, 1), tf.argmax(y, 1))\n",
    "accuracy = tf.reduce_mean(tf.cast(correct_pred, tf.float32), name='accuracy')"
   ]
  },
  {
   "cell_type": "code",
   "execution_count": 18,
   "metadata": {},
   "outputs": [],
   "source": [
    "# Trianing function\n",
    "def train_neural_network(session, optimizer, keep_probability, feature_batch, label_batch):\n",
    "    session.run(optimizer, feed_dict={x: feature_batch, y: label_batch, keep_prob: keep_probability})\n",
    "    "
   ]
  },
  {
   "cell_type": "code",
   "execution_count": 19,
   "metadata": {},
   "outputs": [],
   "source": [
    "# Verbose function\n",
    "def print_stats(session, feature_batch, label_batch, cost, accuracy):\n",
    "    loss = session.run(cost, feed_dict={x: feature_batch, y: label_batch, keep_prob: 1.0})\n",
    "    accuracy = session.run(accuracy, feed_dict={x: valid_features, y: valid_labels, keep_prob: 1.0})\n",
    "    print(\"Loss: {} Accuracy: {}\".format(loss, accuracy))\n",
    "    "
   ]
  },
  {
   "cell_type": "code",
   "execution_count": 20,
   "metadata": {},
   "outputs": [],
   "source": [
    "# few parameters\n",
    "epochs = 35\n",
    "batch_size = 128\n",
    "keep_probability = 0.75"
   ]
  },
  {
   "cell_type": "code",
   "execution_count": 21,
   "metadata": {},
   "outputs": [
    {
     "name": "stdout",
     "output_type": "stream",
     "text": [
      "Checking the Training on a Single Batch...\n",
      "Epoch  1, CIFAR-10 Batch 1:  Loss: 2.1648526191711426 Accuracy: 0.25060001015663147\n",
      "Epoch  2, CIFAR-10 Batch 1:  Loss: 2.019679546356201 Accuracy: 0.34779998660087585\n",
      "Epoch  3, CIFAR-10 Batch 1:  Loss: 1.9374864101409912 Accuracy: 0.39980000257492065\n",
      "Epoch  4, CIFAR-10 Batch 1:  Loss: 1.8202884197235107 Accuracy: 0.421999990940094\n",
      "Epoch  5, CIFAR-10 Batch 1:  Loss: 1.6559743881225586 Accuracy: 0.45100000500679016\n",
      "Epoch  6, CIFAR-10 Batch 1:  Loss: 1.6137069463729858 Accuracy: 0.4740000069141388\n",
      "Epoch  7, CIFAR-10 Batch 1:  Loss: 1.5151158571243286 Accuracy: 0.4860000014305115\n",
      "Epoch  8, CIFAR-10 Batch 1:  Loss: 1.4347120523452759 Accuracy: 0.4997999966144562\n",
      "Epoch  9, CIFAR-10 Batch 1:  Loss: 1.3365763425827026 Accuracy: 0.49900001287460327\n",
      "Epoch 10, CIFAR-10 Batch 1:  Loss: 1.2069571018218994 Accuracy: 0.5117999911308289\n",
      "Epoch 11, CIFAR-10 Batch 1:  Loss: 1.151542067527771 Accuracy: 0.5252000093460083\n",
      "Epoch 12, CIFAR-10 Batch 1:  Loss: 1.0530167818069458 Accuracy: 0.5397999882698059\n",
      "Epoch 13, CIFAR-10 Batch 1:  Loss: 0.9470189809799194 Accuracy: 0.5491999983787537\n",
      "Epoch 14, CIFAR-10 Batch 1:  Loss: 0.9010410308837891 Accuracy: 0.5619999766349792\n",
      "Epoch 15, CIFAR-10 Batch 1:  Loss: 0.824275016784668 Accuracy: 0.5609999895095825\n",
      "Epoch 16, CIFAR-10 Batch 1:  Loss: 0.7842170000076294 Accuracy: 0.5684000253677368\n",
      "Epoch 17, CIFAR-10 Batch 1:  Loss: 0.679102897644043 Accuracy: 0.5820000171661377\n",
      "Epoch 18, CIFAR-10 Batch 1:  Loss: 0.6344018578529358 Accuracy: 0.579200029373169\n",
      "Epoch 19, CIFAR-10 Batch 1:  Loss: 0.6313704252243042 Accuracy: 0.5878000259399414\n",
      "Epoch 20, CIFAR-10 Batch 1:  Loss: 0.5583778023719788 Accuracy: 0.592199981212616\n",
      "Epoch 21, CIFAR-10 Batch 1:  Loss: 0.5297810435295105 Accuracy: 0.5920000076293945\n",
      "Epoch 22, CIFAR-10 Batch 1:  Loss: 0.4793342053890228 Accuracy: 0.6037999987602234\n",
      "Epoch 23, CIFAR-10 Batch 1:  Loss: 0.42003288865089417 Accuracy: 0.6083999872207642\n",
      "Epoch 24, CIFAR-10 Batch 1:  Loss: 0.4102408289909363 Accuracy: 0.6119999885559082\n",
      "Epoch 25, CIFAR-10 Batch 1:  Loss: 0.37035900354385376 Accuracy: 0.623199999332428\n",
      "Epoch 26, CIFAR-10 Batch 1:  Loss: 0.301718533039093 Accuracy: 0.609000027179718\n",
      "Epoch 27, CIFAR-10 Batch 1:  Loss: 0.26253843307495117 Accuracy: 0.6186000108718872\n",
      "Epoch 28, CIFAR-10 Batch 1:  Loss: 0.28842300176620483 Accuracy: 0.628600001335144\n",
      "Epoch 29, CIFAR-10 Batch 1:  Loss: 0.24401652812957764 Accuracy: 0.6151999831199646\n",
      "Epoch 30, CIFAR-10 Batch 1:  Loss: 0.1974218338727951 Accuracy: 0.6277999877929688\n",
      "Epoch 31, CIFAR-10 Batch 1:  Loss: 0.1772710531949997 Accuracy: 0.6195999979972839\n",
      "Epoch 32, CIFAR-10 Batch 1:  Loss: 0.13864241540431976 Accuracy: 0.633400022983551\n",
      "Epoch 33, CIFAR-10 Batch 1:  Loss: 0.15840408205986023 Accuracy: 0.6161999702453613\n",
      "Epoch 34, CIFAR-10 Batch 1:  Loss: 0.1179128885269165 Accuracy: 0.6304000020027161\n",
      "Epoch 35, CIFAR-10 Batch 1:  Loss: 0.13187380135059357 Accuracy: 0.6284000277519226\n"
     ]
    }
   ],
   "source": [
    "# Running the training function\n",
    "print('Checking the Training on a Single Batch...')\n",
    "with tf.Session() as sess:\n",
    "    # Initializing the variables\n",
    "    sess.run(tf.global_variables_initializer())\n",
    "    \n",
    "    # Training cycle\n",
    "    for epoch in range(epochs):\n",
    "        batch_i = 1\n",
    "        for batch_features, batch_labels in helper.load_preprocess_training_batch(batch_i, batch_size):\n",
    "            train_neural_network(sess, optimizer, keep_probability, batch_features, batch_labels)\n",
    "        print('Epoch {:>2}, CIFAR-10 Batch {}:  '.format(epoch + 1, batch_i), end='')\n",
    "        print_stats(sess, batch_features, batch_labels, cost, accuracy)"
   ]
  },
  {
   "cell_type": "code",
   "execution_count": 24,
   "metadata": {},
   "outputs": [
    {
     "name": "stdout",
     "output_type": "stream",
     "text": [
      "Training...\n",
      "Epoch  1, CIFAR-10 Batch 1:  Loss: 2.136258602142334 Accuracy: 0.27079999446868896\n",
      "Epoch  1, CIFAR-10 Batch 2:  Loss: 1.9208290576934814 Accuracy: 0.37119999527931213\n",
      "Epoch  1, CIFAR-10 Batch 3:  Loss: 1.6949573755264282 Accuracy: 0.38760000467300415\n",
      "Epoch  1, CIFAR-10 Batch 4:  Loss: 1.6172339916229248 Accuracy: 0.42579999566078186\n",
      "Epoch  1, CIFAR-10 Batch 5:  Loss: 1.67697274684906 Accuracy: 0.4327999949455261\n",
      "Epoch  2, CIFAR-10 Batch 1:  Loss: 1.7462011575698853 Accuracy: 0.47540000081062317\n",
      "Epoch  2, CIFAR-10 Batch 2:  Loss: 1.4528347253799438 Accuracy: 0.47780001163482666\n",
      "Epoch  2, CIFAR-10 Batch 3:  Loss: 1.2029386758804321 Accuracy: 0.4973999857902527\n",
      "Epoch  2, CIFAR-10 Batch 4:  Loss: 1.4315712451934814 Accuracy: 0.5019999742507935\n",
      "Epoch  2, CIFAR-10 Batch 5:  Loss: 1.4547204971313477 Accuracy: 0.49779999256134033\n",
      "Epoch  3, CIFAR-10 Batch 1:  Loss: 1.4853508472442627 Accuracy: 0.5392000079154968\n",
      "Epoch  3, CIFAR-10 Batch 2:  Loss: 1.27938711643219 Accuracy: 0.5361999869346619\n",
      "Epoch  3, CIFAR-10 Batch 3:  Loss: 1.0722789764404297 Accuracy: 0.5404000282287598\n",
      "Epoch  3, CIFAR-10 Batch 4:  Loss: 1.2472796440124512 Accuracy: 0.5727999806404114\n",
      "Epoch  3, CIFAR-10 Batch 5:  Loss: 1.2587611675262451 Accuracy: 0.5690000057220459\n",
      "Epoch  4, CIFAR-10 Batch 1:  Loss: 1.316348671913147 Accuracy: 0.5861999988555908\n",
      "Epoch  4, CIFAR-10 Batch 2:  Loss: 1.161236047744751 Accuracy: 0.5654000043869019\n",
      "Epoch  4, CIFAR-10 Batch 3:  Loss: 1.0104246139526367 Accuracy: 0.5820000171661377\n",
      "Epoch  4, CIFAR-10 Batch 4:  Loss: 1.098877191543579 Accuracy: 0.6096000075340271\n",
      "Epoch  4, CIFAR-10 Batch 5:  Loss: 1.158936619758606 Accuracy: 0.5917999744415283\n",
      "Epoch  5, CIFAR-10 Batch 1:  Loss: 1.0969985723495483 Accuracy: 0.6096000075340271\n",
      "Epoch  5, CIFAR-10 Batch 2:  Loss: 1.0271472930908203 Accuracy: 0.5997999906539917\n",
      "Epoch  5, CIFAR-10 Batch 3:  Loss: 0.9177739024162292 Accuracy: 0.6115999817848206\n",
      "Epoch  5, CIFAR-10 Batch 4:  Loss: 0.9576511383056641 Accuracy: 0.6263999938964844\n",
      "Epoch  5, CIFAR-10 Batch 5:  Loss: 1.0134408473968506 Accuracy: 0.6367999911308289\n",
      "Epoch  6, CIFAR-10 Batch 1:  Loss: 0.8919645547866821 Accuracy: 0.6466000080108643\n",
      "Epoch  6, CIFAR-10 Batch 2:  Loss: 0.9201990962028503 Accuracy: 0.6431999802589417\n",
      "Epoch  6, CIFAR-10 Batch 3:  Loss: 0.7709225416183472 Accuracy: 0.650600016117096\n",
      "Epoch  6, CIFAR-10 Batch 4:  Loss: 0.8001418113708496 Accuracy: 0.6510000228881836\n",
      "Epoch  6, CIFAR-10 Batch 5:  Loss: 0.871878981590271 Accuracy: 0.6514000296592712\n",
      "Epoch  7, CIFAR-10 Batch 1:  Loss: 0.7609604001045227 Accuracy: 0.6647999882698059\n",
      "Epoch  7, CIFAR-10 Batch 2:  Loss: 0.8370863199234009 Accuracy: 0.6549999713897705\n",
      "Epoch  7, CIFAR-10 Batch 3:  Loss: 0.6976129412651062 Accuracy: 0.670199990272522\n",
      "Epoch  7, CIFAR-10 Batch 4:  Loss: 0.7177326679229736 Accuracy: 0.6678000092506409\n",
      "Epoch  7, CIFAR-10 Batch 5:  Loss: 0.7616315484046936 Accuracy: 0.6656000018119812\n",
      "Epoch  8, CIFAR-10 Batch 1:  Loss: 0.746599555015564 Accuracy: 0.6722000241279602\n",
      "Epoch  8, CIFAR-10 Batch 2:  Loss: 0.7937904596328735 Accuracy: 0.6733999848365784\n",
      "Epoch  8, CIFAR-10 Batch 3:  Loss: 0.6359207034111023 Accuracy: 0.6827999949455261\n",
      "Epoch  8, CIFAR-10 Batch 4:  Loss: 0.5965873599052429 Accuracy: 0.6953999996185303\n",
      "Epoch  8, CIFAR-10 Batch 5:  Loss: 0.7403199076652527 Accuracy: 0.6679999828338623\n",
      "Epoch  9, CIFAR-10 Batch 1:  Loss: 0.6205542683601379 Accuracy: 0.6887999773025513\n",
      "Epoch  9, CIFAR-10 Batch 2:  Loss: 0.7813534736633301 Accuracy: 0.6836000084877014\n",
      "Epoch  9, CIFAR-10 Batch 3:  Loss: 0.5118519067764282 Accuracy: 0.6958000063896179\n",
      "Epoch  9, CIFAR-10 Batch 4:  Loss: 0.526036262512207 Accuracy: 0.7026000022888184\n",
      "Epoch  9, CIFAR-10 Batch 5:  Loss: 0.6187483072280884 Accuracy: 0.6952000260353088\n",
      "Epoch 10, CIFAR-10 Batch 1:  Loss: 0.547651469707489 Accuracy: 0.7134000062942505\n",
      "Epoch 10, CIFAR-10 Batch 2:  Loss: 0.6299173831939697 Accuracy: 0.7210000157356262\n",
      "Epoch 10, CIFAR-10 Batch 3:  Loss: 0.4143528342247009 Accuracy: 0.7038000226020813\n",
      "Epoch 10, CIFAR-10 Batch 4:  Loss: 0.41259875893592834 Accuracy: 0.7157999873161316\n",
      "Epoch 10, CIFAR-10 Batch 5:  Loss: 0.5392447710037231 Accuracy: 0.7056000232696533\n",
      "Epoch 11, CIFAR-10 Batch 1:  Loss: 0.5595985054969788 Accuracy: 0.7080000042915344\n",
      "Epoch 11, CIFAR-10 Batch 2:  Loss: 0.5577823519706726 Accuracy: 0.7135999798774719\n",
      "Epoch 11, CIFAR-10 Batch 3:  Loss: 0.41776952147483826 Accuracy: 0.7135999798774719\n",
      "Epoch 11, CIFAR-10 Batch 4:  Loss: 0.3850744366645813 Accuracy: 0.725600004196167\n",
      "Epoch 11, CIFAR-10 Batch 5:  Loss: 0.4519622325897217 Accuracy: 0.7211999893188477\n",
      "Epoch 12, CIFAR-10 Batch 1:  Loss: 0.4926196038722992 Accuracy: 0.7282000184059143\n",
      "Epoch 12, CIFAR-10 Batch 2:  Loss: 0.4682464599609375 Accuracy: 0.7131999731063843\n",
      "Epoch 12, CIFAR-10 Batch 3:  Loss: 0.3367304801940918 Accuracy: 0.7111999988555908\n",
      "Epoch 12, CIFAR-10 Batch 4:  Loss: 0.35086044669151306 Accuracy: 0.732200026512146\n",
      "Epoch 12, CIFAR-10 Batch 5:  Loss: 0.43248042464256287 Accuracy: 0.7202000021934509\n",
      "Epoch 13, CIFAR-10 Batch 1:  Loss: 0.41308578848838806 Accuracy: 0.7239999771118164\n",
      "Epoch 13, CIFAR-10 Batch 2:  Loss: 0.4566940665245056 Accuracy: 0.7246000170707703\n",
      "Epoch 13, CIFAR-10 Batch 3:  Loss: 0.33765190839767456 Accuracy: 0.7215999960899353\n",
      "Epoch 13, CIFAR-10 Batch 4:  Loss: 0.32512569427490234 Accuracy: 0.7287999987602234\n",
      "Epoch 13, CIFAR-10 Batch 5:  Loss: 0.3926977515220642 Accuracy: 0.7192000150680542\n",
      "Epoch 14, CIFAR-10 Batch 1:  Loss: 0.39104515314102173 Accuracy: 0.7351999878883362\n",
      "Epoch 14, CIFAR-10 Batch 2:  Loss: 0.4093310832977295 Accuracy: 0.7247999906539917\n",
      "Epoch 14, CIFAR-10 Batch 3:  Loss: 0.33928942680358887 Accuracy: 0.7088000178337097\n",
      "Epoch 14, CIFAR-10 Batch 4:  Loss: 0.2643575668334961 Accuracy: 0.7296000123023987\n",
      "Epoch 14, CIFAR-10 Batch 5:  Loss: 0.32516375184059143 Accuracy: 0.7378000020980835\n",
      "Epoch 15, CIFAR-10 Batch 1:  Loss: 0.3522990942001343 Accuracy: 0.7310000061988831\n",
      "Epoch 15, CIFAR-10 Batch 2:  Loss: 0.31988734006881714 Accuracy: 0.7365999817848206\n",
      "Epoch 15, CIFAR-10 Batch 3:  Loss: 0.2418619692325592 Accuracy: 0.7333999872207642\n",
      "Epoch 15, CIFAR-10 Batch 4:  Loss: 0.22494521737098694 Accuracy: 0.7487999796867371\n",
      "Epoch 15, CIFAR-10 Batch 5:  Loss: 0.30312925577163696 Accuracy: 0.7301999926567078\n",
      "Epoch 16, CIFAR-10 Batch 1:  Loss: 0.3003191351890564 Accuracy: 0.743399977684021\n",
      "Epoch 16, CIFAR-10 Batch 2:  Loss: 0.31213071942329407 Accuracy: 0.7391999959945679\n",
      "Epoch 16, CIFAR-10 Batch 3:  Loss: 0.23497280478477478 Accuracy: 0.7264000177383423\n",
      "Epoch 16, CIFAR-10 Batch 4:  Loss: 0.24311351776123047 Accuracy: 0.7396000027656555\n",
      "Epoch 16, CIFAR-10 Batch 5:  Loss: 0.22949984669685364 Accuracy: 0.7486000061035156\n",
      "Epoch 17, CIFAR-10 Batch 1:  Loss: 0.24332985281944275 Accuracy: 0.7473999857902527\n",
      "Epoch 17, CIFAR-10 Batch 2:  Loss: 0.22888073325157166 Accuracy: 0.7450000047683716\n",
      "Epoch 17, CIFAR-10 Batch 3:  Loss: 0.13299110531806946 Accuracy: 0.7495999932289124\n",
      "Epoch 17, CIFAR-10 Batch 4:  Loss: 0.20621821284294128 Accuracy: 0.7476000189781189\n",
      "Epoch 17, CIFAR-10 Batch 5:  Loss: 0.21394100785255432 Accuracy: 0.7483999729156494\n",
      "Epoch 18, CIFAR-10 Batch 1:  Loss: 0.20303206145763397 Accuracy: 0.7487999796867371\n",
      "Epoch 18, CIFAR-10 Batch 2:  Loss: 0.2178936004638672 Accuracy: 0.7491999864578247\n",
      "Epoch 18, CIFAR-10 Batch 3:  Loss: 0.13292059302330017 Accuracy: 0.7590000033378601\n",
      "Epoch 18, CIFAR-10 Batch 4:  Loss: 0.14473193883895874 Accuracy: 0.7537999749183655\n",
      "Epoch 18, CIFAR-10 Batch 5:  Loss: 0.20828938484191895 Accuracy: 0.745199978351593\n",
      "Epoch 19, CIFAR-10 Batch 1:  Loss: 0.17146238684654236 Accuracy: 0.7513999938964844\n",
      "Epoch 19, CIFAR-10 Batch 2:  Loss: 0.1848079115152359 Accuracy: 0.756600022315979\n",
      "Epoch 19, CIFAR-10 Batch 3:  Loss: 0.12870189547538757 Accuracy: 0.7545999884605408\n",
      "Epoch 19, CIFAR-10 Batch 4:  Loss: 0.14819881319999695 Accuracy: 0.7657999992370605\n",
      "Epoch 19, CIFAR-10 Batch 5:  Loss: 0.15279658138751984 Accuracy: 0.7549999952316284\n",
      "Epoch 20, CIFAR-10 Batch 1:  Loss: 0.13959331810474396 Accuracy: 0.753600001335144\n",
      "Epoch 20, CIFAR-10 Batch 2:  Loss: 0.0899379700422287 Accuracy: 0.7667999863624573\n",
      "Epoch 20, CIFAR-10 Batch 3:  Loss: 0.12338167428970337 Accuracy: 0.7623999714851379\n"
     ]
    },
    {
     "name": "stdout",
     "output_type": "stream",
     "text": [
      "Epoch 20, CIFAR-10 Batch 4:  Loss: 0.17061083018779755 Accuracy: 0.7558000087738037\n",
      "Epoch 20, CIFAR-10 Batch 5:  Loss: 0.1620292216539383 Accuracy: 0.7595999836921692\n",
      "Epoch 21, CIFAR-10 Batch 1:  Loss: 0.10759927332401276 Accuracy: 0.7649999856948853\n",
      "Epoch 21, CIFAR-10 Batch 2:  Loss: 0.08624511957168579 Accuracy: 0.7605999708175659\n",
      "Epoch 21, CIFAR-10 Batch 3:  Loss: 0.08699855208396912 Accuracy: 0.7613999843597412\n",
      "Epoch 21, CIFAR-10 Batch 4:  Loss: 0.12600721418857574 Accuracy: 0.7667999863624573\n",
      "Epoch 21, CIFAR-10 Batch 5:  Loss: 0.11676196753978729 Accuracy: 0.7562000155448914\n",
      "Epoch 22, CIFAR-10 Batch 1:  Loss: 0.10463418811559677 Accuracy: 0.7638000249862671\n",
      "Epoch 22, CIFAR-10 Batch 2:  Loss: 0.06924960762262344 Accuracy: 0.7494000196456909\n",
      "Epoch 22, CIFAR-10 Batch 3:  Loss: 0.06517628580331802 Accuracy: 0.7652000188827515\n",
      "Epoch 22, CIFAR-10 Batch 4:  Loss: 0.10481370985507965 Accuracy: 0.7675999999046326\n",
      "Epoch 22, CIFAR-10 Batch 5:  Loss: 0.13995011150836945 Accuracy: 0.758400022983551\n",
      "Epoch 23, CIFAR-10 Batch 1:  Loss: 0.1117856502532959 Accuracy: 0.7613999843597412\n",
      "Epoch 23, CIFAR-10 Batch 2:  Loss: 0.06963897496461868 Accuracy: 0.7432000041007996\n",
      "Epoch 23, CIFAR-10 Batch 3:  Loss: 0.08311918377876282 Accuracy: 0.7621999979019165\n",
      "Epoch 23, CIFAR-10 Batch 4:  Loss: 0.0941532701253891 Accuracy: 0.7710000276565552\n",
      "Epoch 23, CIFAR-10 Batch 5:  Loss: 0.09150169789791107 Accuracy: 0.7626000046730042\n",
      "Epoch 24, CIFAR-10 Batch 1:  Loss: 0.08393751084804535 Accuracy: 0.7594000101089478\n",
      "Epoch 24, CIFAR-10 Batch 2:  Loss: 0.0632377415895462 Accuracy: 0.756600022315979\n",
      "Epoch 24, CIFAR-10 Batch 3:  Loss: 0.07021227478981018 Accuracy: 0.7667999863624573\n",
      "Epoch 24, CIFAR-10 Batch 4:  Loss: 0.09906993806362152 Accuracy: 0.7703999876976013\n",
      "Epoch 24, CIFAR-10 Batch 5:  Loss: 0.08383894711732864 Accuracy: 0.7748000025749207\n",
      "Epoch 25, CIFAR-10 Batch 1:  Loss: 0.061343513429164886 Accuracy: 0.7712000012397766\n",
      "Epoch 25, CIFAR-10 Batch 2:  Loss: 0.06610111147165298 Accuracy: 0.7405999898910522\n",
      "Epoch 25, CIFAR-10 Batch 3:  Loss: 0.04331345856189728 Accuracy: 0.7698000073432922\n",
      "Epoch 25, CIFAR-10 Batch 4:  Loss: 0.08791782706975937 Accuracy: 0.7656000256538391\n",
      "Epoch 25, CIFAR-10 Batch 5:  Loss: 0.09587471187114716 Accuracy: 0.7688000202178955\n",
      "Epoch 26, CIFAR-10 Batch 1:  Loss: 0.06180567294359207 Accuracy: 0.760200023651123\n",
      "Epoch 26, CIFAR-10 Batch 2:  Loss: 0.02628731168806553 Accuracy: 0.7599999904632568\n",
      "Epoch 26, CIFAR-10 Batch 3:  Loss: 0.051947057247161865 Accuracy: 0.7621999979019165\n",
      "Epoch 26, CIFAR-10 Batch 4:  Loss: 0.08386604487895966 Accuracy: 0.7706000208854675\n",
      "Epoch 26, CIFAR-10 Batch 5:  Loss: 0.08442696928977966 Accuracy: 0.7766000032424927\n",
      "Epoch 27, CIFAR-10 Batch 1:  Loss: 0.04065291956067085 Accuracy: 0.7681999802589417\n",
      "Epoch 27, CIFAR-10 Batch 2:  Loss: 0.05212299898266792 Accuracy: 0.7554000020027161\n",
      "Epoch 27, CIFAR-10 Batch 3:  Loss: 0.030039524659514427 Accuracy: 0.7703999876976013\n",
      "Epoch 27, CIFAR-10 Batch 4:  Loss: 0.06083730608224869 Accuracy: 0.7681999802589417\n",
      "Epoch 27, CIFAR-10 Batch 5:  Loss: 0.07459317147731781 Accuracy: 0.7595999836921692\n",
      "Epoch 28, CIFAR-10 Batch 1:  Loss: 0.06213495880365372 Accuracy: 0.7657999992370605\n",
      "Epoch 28, CIFAR-10 Batch 2:  Loss: 0.044913649559020996 Accuracy: 0.7656000256538391\n",
      "Epoch 28, CIFAR-10 Batch 3:  Loss: 0.038018204271793365 Accuracy: 0.7698000073432922\n",
      "Epoch 28, CIFAR-10 Batch 4:  Loss: 0.06238662078976631 Accuracy: 0.7752000093460083\n",
      "Epoch 28, CIFAR-10 Batch 5:  Loss: 0.05159289762377739 Accuracy: 0.7710000276565552\n",
      "Epoch 29, CIFAR-10 Batch 1:  Loss: 0.05310907959938049 Accuracy: 0.7563999891281128\n",
      "Epoch 29, CIFAR-10 Batch 2:  Loss: 0.03320004791021347 Accuracy: 0.7620000243186951\n",
      "Epoch 29, CIFAR-10 Batch 3:  Loss: 0.02480342611670494 Accuracy: 0.7663999795913696\n",
      "Epoch 29, CIFAR-10 Batch 4:  Loss: 0.07553068548440933 Accuracy: 0.7666000127792358\n",
      "Epoch 29, CIFAR-10 Batch 5:  Loss: 0.03631751611828804 Accuracy: 0.7670000195503235\n",
      "Epoch 30, CIFAR-10 Batch 1:  Loss: 0.04785165935754776 Accuracy: 0.7728000283241272\n",
      "Epoch 30, CIFAR-10 Batch 2:  Loss: 0.026152998208999634 Accuracy: 0.7563999891281128\n",
      "Epoch 30, CIFAR-10 Batch 3:  Loss: 0.03136087954044342 Accuracy: 0.7639999985694885\n",
      "Epoch 30, CIFAR-10 Batch 4:  Loss: 0.04919851943850517 Accuracy: 0.7716000080108643\n",
      "Epoch 30, CIFAR-10 Batch 5:  Loss: 0.041711628437042236 Accuracy: 0.7716000080108643\n",
      "Epoch 31, CIFAR-10 Batch 1:  Loss: 0.05393237993121147 Accuracy: 0.7671999931335449\n",
      "Epoch 31, CIFAR-10 Batch 2:  Loss: 0.03399895504117012 Accuracy: 0.7552000284194946\n",
      "Epoch 31, CIFAR-10 Batch 3:  Loss: 0.030131924897432327 Accuracy: 0.7585999965667725\n",
      "Epoch 31, CIFAR-10 Batch 4:  Loss: 0.037219591438770294 Accuracy: 0.7724000215530396\n",
      "Epoch 31, CIFAR-10 Batch 5:  Loss: 0.04379263520240784 Accuracy: 0.7626000046730042\n",
      "Epoch 32, CIFAR-10 Batch 1:  Loss: 0.04096376895904541 Accuracy: 0.7712000012397766\n",
      "Epoch 32, CIFAR-10 Batch 2:  Loss: 0.023931415751576424 Accuracy: 0.7675999999046326\n",
      "Epoch 32, CIFAR-10 Batch 3:  Loss: 0.0241208765655756 Accuracy: 0.7749999761581421\n",
      "Epoch 32, CIFAR-10 Batch 4:  Loss: 0.03261119872331619 Accuracy: 0.7757999897003174\n",
      "Epoch 32, CIFAR-10 Batch 5:  Loss: 0.04233630374073982 Accuracy: 0.7572000026702881\n",
      "Epoch 33, CIFAR-10 Batch 1:  Loss: 0.03208587318658829 Accuracy: 0.7588000297546387\n",
      "Epoch 33, CIFAR-10 Batch 2:  Loss: 0.026157934218645096 Accuracy: 0.7620000243186951\n",
      "Epoch 33, CIFAR-10 Batch 3:  Loss: 0.018805166706442833 Accuracy: 0.7730000019073486\n",
      "Epoch 33, CIFAR-10 Batch 4:  Loss: 0.04032939672470093 Accuracy: 0.7663999795913696\n",
      "Epoch 33, CIFAR-10 Batch 5:  Loss: 0.024557728320360184 Accuracy: 0.7644000053405762\n",
      "Epoch 34, CIFAR-10 Batch 1:  Loss: 0.01157713495194912 Accuracy: 0.7742000222206116\n",
      "Epoch 34, CIFAR-10 Batch 2:  Loss: 0.021194275468587875 Accuracy: 0.7652000188827515\n",
      "Epoch 34, CIFAR-10 Batch 3:  Loss: 0.01383738499134779 Accuracy: 0.7609999775886536\n",
      "Epoch 34, CIFAR-10 Batch 4:  Loss: 0.07187061011791229 Accuracy: 0.7684000134468079\n",
      "Epoch 34, CIFAR-10 Batch 5:  Loss: 0.04245065897703171 Accuracy: 0.7684000134468079\n",
      "Epoch 35, CIFAR-10 Batch 1:  Loss: 0.03777337074279785 Accuracy: 0.7613999843597412\n",
      "Epoch 35, CIFAR-10 Batch 2:  Loss: 0.018321547657251358 Accuracy: 0.7684000134468079\n",
      "Epoch 35, CIFAR-10 Batch 3:  Loss: 0.0211733840405941 Accuracy: 0.76419997215271\n",
      "Epoch 35, CIFAR-10 Batch 4:  Loss: 0.018507536500692368 Accuracy: 0.7685999870300293\n",
      "Epoch 35, CIFAR-10 Batch 5:  Loss: 0.03005848452448845 Accuracy: 0.7731999754905701\n"
     ]
    }
   ],
   "source": [
    "save_model_path = './image_classification'\n",
    "\n",
    "print('Training...')\n",
    "with tf.Session() as sess:\n",
    "    # Initializing the variables\n",
    "    sess.run(tf.global_variables_initializer())\n",
    "    \n",
    "    # Training cycle\n",
    "    for epoch in range(epochs):\n",
    "        # Loop over all batches\n",
    "        n_batches = 5\n",
    "        for batch_i in range(1, n_batches + 1):\n",
    "            for batch_features, batch_labels in helper.load_preprocess_training_batch(batch_i, batch_size):\n",
    "                train_neural_network(sess, optimizer, keep_probability, batch_features, batch_labels)\n",
    "            print('Epoch {:>2}, CIFAR-10 Batch {}:  '.format(epoch + 1, batch_i), end='')\n",
    "            print_stats(sess, batch_features, batch_labels, cost, accuracy)\n",
    "            \n",
    "    # Save Model\n",
    "    saver = tf.train.Saver()\n",
    "    save_path = saver.save(sess, save_model_path)"
   ]
  },
  {
   "cell_type": "code",
   "execution_count": 25,
   "metadata": {},
   "outputs": [],
   "source": [
    "%matplotlib inline\n",
    "%config InlineBackend.figure_format = 'retina'\n",
    "\n",
    "import tensorflow as tf\n",
    "import pickle\n",
    "import helper\n",
    "import random\n",
    "\n",
    "# Set batch size if not already set\n",
    "try:\n",
    "    if batch_size:\n",
    "        pass\n",
    "except NameError:\n",
    "    batch_size = 64\n",
    "\n",
    "save_model_path = './image_classification'\n",
    "n_samples = 4\n",
    "top_n_predictions = 3\n",
    "\n",
    "def test_model():\n",
    "\n",
    "    test_features, test_labels = pickle.load(open('preprocess_training.p', mode='rb'))\n",
    "    loaded_graph = tf.Graph()\n",
    "\n",
    "    with tf.Session(graph=loaded_graph) as sess:\n",
    "        # Load model\n",
    "        loader = tf.train.import_meta_graph(save_model_path + '.meta')\n",
    "        loader.restore(sess, save_model_path)\n",
    "\n",
    "        # Get Tensors from loaded model\n",
    "        loaded_x = loaded_graph.get_tensor_by_name('x:0')\n",
    "        loaded_y = loaded_graph.get_tensor_by_name('y:0')\n",
    "        loaded_keep_prob = loaded_graph.get_tensor_by_name('keep_prob:0')\n",
    "        loaded_logits = loaded_graph.get_tensor_by_name('logits:0')\n",
    "        loaded_acc = loaded_graph.get_tensor_by_name('accuracy:0')\n",
    "        \n",
    "        # Get accuracy in batches for memory limitations\n",
    "        test_batch_acc_total = 0\n",
    "        test_batch_count = 0\n",
    "        \n",
    "        for train_feature_batch, train_label_batch in helper.batch_features_labels(test_features, test_labels, batch_size):\n",
    "            test_batch_acc_total += sess.run(\n",
    "                loaded_acc,\n",
    "                feed_dict={loaded_x: train_feature_batch, loaded_y: train_label_batch, loaded_keep_prob: 1.0})\n",
    "            test_batch_count += 1\n",
    "\n",
    "        print('Testing Accuracy: {}\\n'.format(test_batch_acc_total/test_batch_count))\n",
    "\n",
    "        # Print Random Samples\n",
    "        random_test_features, random_test_labels = tuple(zip(*random.sample(list(zip(test_features, test_labels)), n_samples)))\n",
    "        random_test_predictions = sess.run(\n",
    "            tf.nn.top_k(tf.nn.softmax(loaded_logits), top_n_predictions),\n",
    "            feed_dict={loaded_x: random_test_features, loaded_y: random_test_labels, loaded_keep_prob: 1.0})\n",
    "        helper.display_image_predictions(random_test_features, random_test_labels, random_test_predictions)\n",
    "\n",
    "\n"
   ]
  },
  {
   "cell_type": "code",
   "execution_count": 26,
   "metadata": {},
   "outputs": [
    {
     "name": "stdout",
     "output_type": "stream",
     "text": [
      "INFO:tensorflow:Restoring parameters from ./image_classification\n",
      "Testing Accuracy: 0.7647349683544303\n",
      "\n"
     ]
    },
    {
     "data": {
      "image/png": "[encoded data removed]",
      "text/plain": [
       "<matplotlib.figure.Figure at 0x13baaaf4f98>"
      ]
     },
     "metadata": {
      "image/png": {
       "height": 319,
       "width": 355
      }
     },
     "output_type": "display_data"
    }
   ],
   "source": [
    "# Inferencing the model\n",
    "test_model()"
   ]
  },
  {
   "cell_type": "code",
   "execution_count": null,
   "metadata": {},
   "outputs": [],
   "source": []
  }
 ],
 "metadata": {
  "kernelspec": {
   "display_name": "Python 3",
   "language": "python",
   "name": "python3"
  },
  "language_info": {
   "codemirror_mode": {
    "name": "ipython",
    "version": 3
   },
   "file_extension": ".py",
   "mimetype": "text/x-python",
   "name": "python",
   "nbconvert_exporter": "python",
   "pygments_lexer": "ipython3",
   "version": "3.6.4"
  }
 },
 "nbformat": 4,
 "nbformat_minor": 2
}
